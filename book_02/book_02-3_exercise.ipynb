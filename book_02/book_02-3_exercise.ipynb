{
 "cells": [
  {
   "cell_type": "code",
   "execution_count": 4,
   "metadata": {
    "collapsed": true
   },
   "outputs": [
    {
     "data": {
      "text/plain": "'값'"
     },
     "execution_count": 4,
     "metadata": {},
     "output_type": "execute_result"
    }
   ],
   "source": [
    "# 확인문제 1. 변수값에 기호를 쓰기\n",
    "name = \"값\"\n",
    "name"
   ]
  },
  {
   "cell_type": "code",
   "execution_count": null,
   "outputs": [],
   "source": [
    "# 확인문제 2. 변수값에 기호를 쓰기\n",
    "## += 숫자 덧셈 후 대입\n",
    "## -= 숫자 뺄셈 후 대입\n",
    "## *= 숫자 곱셈 후 대입\n",
    "## /= 숫자 나눗셈 후 대입\n",
    "## %= 숫자 나머지 구한 후 대입\n",
    "## **= 숫자 제곱 후 대입"
   ],
   "metadata": {
    "collapsed": false,
    "pycharm": {
     "name": "#%%\n"
    }
   }
  },
  {
   "cell_type": "code",
   "execution_count": 5,
   "outputs": [],
   "source": [
    "# 확인문제 3. 함수이름 구하기\n",
    "## int() : 문자열을 int 자료형으로 구하기\n",
    "## float() : 문자열을 float 자료형으로 구하기\n",
    "## str() : 숫자를 문자열로 변환"
   ],
   "metadata": {
    "collapsed": false,
    "pycharm": {
     "name": "#%%\n"
    }
   }
  },
  {
   "cell_type": "code",
   "execution_count": 7,
   "outputs": [
    {
     "name": "stdout",
     "output_type": "stream",
     "text": [
      "\n",
      "1.0 inch\n",
      "2.54 cm\n"
     ]
    }
   ],
   "source": [
    "# 확인문제 4. 빈칸에 내용 넣어 완성하기\n",
    "str_input = str(input(\"숫자입력> \"))\n",
    "num_input = float(str_input)\n",
    "\n",
    "print()\n",
    "print(num_input, \"inch\")\n",
    "print((num_input * 2.54), \"cm\")"
   ],
   "metadata": {
    "collapsed": false,
    "pycharm": {
     "name": "#%%\n"
    }
   }
  },
  {
   "cell_type": "code",
   "execution_count": 9,
   "outputs": [
    {
     "name": "stdout",
     "output_type": "stream",
     "text": [
      "\n",
      "반지름:  2.0\n",
      "둘레:  12.56\n",
      "넓이:  12.56\n"
     ]
    }
   ],
   "source": [
    "# 확인문제 5. 빈칸에 내용 넣어 완성하기\n",
    "## 둘레: 2 * 원주율 * 반지름\n",
    "## 넓이: 원주율 * 반지름 * 반지름\n",
    "\n",
    "str_input = str(input(\"원의 반지름 입력> \"))\n",
    "num_input = float(str_input)\n",
    "print()\n",
    "print(\"반지름: \", num_input)\n",
    "print(\"둘레: \", 2 * 3.14 * num_input)\n",
    "print(\"넓이: \", 3.14 * num_input ** 2)"
   ],
   "metadata": {
    "collapsed": false,
    "pycharm": {
     "name": "#%%\n"
    }
   }
  },
  {
   "cell_type": "code",
   "execution_count": 14,
   "outputs": [
    {
     "name": "stdout",
     "output_type": "stream",
     "text": [
      "안녕하세요 아침입니다\n",
      "아침입니다 안녕하세요\n"
     ]
    }
   ],
   "source": [
    "# 확인문제 6. 스왑\n",
    "a = input(\"문자열 입력> \")\n",
    "b = input(\"문자열 입력> \")\n",
    "\n",
    "print(a, b)\n",
    "\n",
    "c = a\n",
    "a = b\n",
    "b = c\n",
    "\n",
    "print(a, b)\n"
   ],
   "metadata": {
    "collapsed": false,
    "pycharm": {
     "name": "#%%\n"
    }
   }
  }
 ],
 "metadata": {
  "kernelspec": {
   "display_name": "Python 3",
   "language": "python",
   "name": "python3"
  },
  "language_info": {
   "codemirror_mode": {
    "name": "ipython",
    "version": 2
   },
   "file_extension": ".py",
   "mimetype": "text/x-python",
   "name": "python",
   "nbconvert_exporter": "python",
   "pygments_lexer": "ipython2",
   "version": "2.7.6"
  }
 },
 "nbformat": 4,
 "nbformat_minor": 0
}