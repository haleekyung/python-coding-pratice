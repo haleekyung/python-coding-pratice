{
 "cells": [
  {
   "cell_type": "code",
   "execution_count": 19,
   "metadata": {
    "collapsed": true,
    "pycharm": {
     "name": "#%%\n"
    }
   },
   "outputs": [],
   "source": [
    "# 두 정수 A와 B를 입력받은 다음, A+B를 출력하는 프로그램을 작성하시오.\n",
    "# 첫째 줄에 테스트 케이스의 개수 T가 주어진다.\n",
    "# 각 테스트 케이스는 한 줄로 이루어져 있으며, 각 줄에 A와 B가 주어진다. (0 < A, B < 10)\n",
    "# 각 테스트 케이스마다 A+B를 출력한다."
   ]
  },
  {
   "cell_type": "code",
   "execution_count": 34,
   "outputs": [
    {
     "name": "stdout",
     "output_type": "stream",
     "text": [
      "1\n",
      "3\n"
     ]
    }
   ],
   "source": [
    "A = 0\n",
    "B = 0\n",
    "T = int(input(\"몇 번 더하겠습니까?\"))\n",
    "print(T)\n",
    "\n",
    "for i in range(T):\n",
    "    while(True):\n",
    "        A = int(input(\"숫자를 입력하세요.\"))\n",
    "        if 0 < A:\n",
    "            break\n",
    "        else:\n",
    "            print(\"try again. please put a digit under 10\")\n",
    "\n",
    "    while(True):\n",
    "        B = int(input(\"숫자를 입력하세요.\"))\n",
    "        if B < 10:\n",
    "            break\n",
    "        else:\n",
    "            print(\"try again. please put a digit under 10\")\n",
    "    print(A + B)"
   ],
   "metadata": {
    "collapsed": false,
    "pycharm": {
     "name": "#%%\n"
    }
   }
  },
  {
   "cell_type": "code",
   "execution_count": 39,
   "outputs": [
    {
     "name": "stdout",
     "output_type": "stream",
     "text": [
      "5\n",
      "3\n",
      "5\n",
      "11\n",
      "17\n",
      "7\n"
     ]
    }
   ],
   "source": [
    "T = int(input(\"몇 번 더하겠습니까?\"))\n",
    "print(T)\n",
    "\n",
    "for i in range(T):\n",
    "    A = int(input(\"숫자를 입력하세요\"))\n",
    "    B = int(input(\"숫자를 입력하세요\"))\n",
    "    print(A + B)"
   ],
   "metadata": {
    "collapsed": false,
    "pycharm": {
     "name": "#%%\n"
    }
   }
  },
  {
   "cell_type": "code",
   "execution_count": null,
   "outputs": [],
   "source": [],
   "metadata": {
    "collapsed": false,
    "pycharm": {
     "name": "#%%\n"
    }
   }
  }
 ],
 "metadata": {
  "kernelspec": {
   "display_name": "Python 3",
   "language": "python",
   "name": "python3"
  },
  "language_info": {
   "codemirror_mode": {
    "name": "ipython",
    "version": 2
   },
   "file_extension": ".py",
   "mimetype": "text/x-python",
   "name": "python",
   "nbconvert_exporter": "python",
   "pygments_lexer": "ipython2",
   "version": "2.7.6"
  }
 },
 "nbformat": 4,
 "nbformat_minor": 0
}