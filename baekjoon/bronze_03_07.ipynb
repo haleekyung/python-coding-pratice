{
 "cells": [
  {
   "cell_type": "code",
   "execution_count": 19,
   "metadata": {
    "collapsed": true,
    "pycharm": {
     "name": "#%%\n"
    }
   },
   "outputs": [
    {
     "name": "stdout",
     "output_type": "stream",
     "text": [
      "1 17\n"
     ]
    }
   ],
   "source": [
    "\n",
    "while(True):\n",
    "    H = int(input(\"시간을 입력하시오\"))\n",
    "    if H <= 24:\n",
    "        if H == 0:\n",
    "            H = H + 24\n",
    "        elif H == 23:\n",
    "            H = H - 1\n",
    "            M = M + 15\n",
    "        break\n",
    "    else:\n",
    "        print(\"try again.\")\n",
    "\n",
    "while(True):\n",
    "    M = int(input(\"분을 입력하시오\"))\n",
    "    if M <= 60:\n",
    "        if M < 40:\n",
    "            H = H - 1\n",
    "            M = M + 15\n",
    "        break\n",
    "    else:\n",
    "        print(\"try again.\")\n",
    "\n",
    "print(H, M)\n"
   ]
  },
  {
   "cell_type": "code",
   "execution_count": null,
   "outputs": [],
   "source": [],
   "metadata": {
    "collapsed": false,
    "pycharm": {
     "name": "#%%\n"
    }
   }
  }
 ],
 "metadata": {
  "kernelspec": {
   "name": "python3",
   "language": "python",
   "display_name": "Python 3"
  },
  "language_info": {
   "codemirror_mode": {
    "name": "ipython",
    "version": 2
   },
   "file_extension": ".py",
   "mimetype": "text/x-python",
   "name": "python",
   "nbconvert_exporter": "python",
   "pygments_lexer": "ipython2",
   "version": "2.7.6"
  }
 },
 "nbformat": 4,
 "nbformat_minor": 0
}