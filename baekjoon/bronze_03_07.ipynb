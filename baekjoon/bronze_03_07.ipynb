{
 "cells": [
  {
   "cell_type": "code",
   "execution_count": 51,
   "metadata": {
    "collapsed": true,
    "pycharm": {
     "name": "#%%\n"
    }
   },
   "outputs": [
    {
     "name": "stdout",
     "output_type": "stream",
     "text": [
      "22 55\n"
     ]
    }
   ],
   "source": [
    "H = int(input(\"시간을 입력하시오\"))\n",
    "M = int(input(\"분을 입력하시오\"))\n",
    "\n",
    "if M < 40:\n",
    "    H = H - 1\n",
    "    M = M + 15\n",
    "if H < 0:\n",
    "    H = H + 24\n",
    "if H == 23:\n",
    "    H = H - 1\n",
    "    M = M + 15\n",
    "\n",
    "print(H, M)\n",
    "\n",
    "\n"
   ]
  },
  {
   "cell_type": "code",
   "execution_count": null,
   "outputs": [],
   "source": [],
   "metadata": {
    "collapsed": false,
    "pycharm": {
     "name": "#%%\n"
    }
   }
  }
 ],
 "metadata": {
  "kernelspec": {
   "name": "pycharm-5941a516",
   "language": "python",
   "display_name": "PyCharm (python-coding-pratice)"
  },
  "language_info": {
   "codemirror_mode": {
    "name": "ipython",
    "version": 2
   },
   "file_extension": ".py",
   "mimetype": "text/x-python",
   "name": "python",
   "nbconvert_exporter": "python",
   "pygments_lexer": "ipython2",
   "version": "2.7.6"
  }
 },
 "nbformat": 4,
 "nbformat_minor": 0
}