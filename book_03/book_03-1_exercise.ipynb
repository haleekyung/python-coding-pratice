{
 "cells": [
  {
   "cell_type": "code",
   "execution_count": 2,
   "metadata": {
    "collapsed": true
   },
   "outputs": [
    {
     "name": "stdout",
     "output_type": "stream",
     "text": [
      "\n",
      "처음 입력했던 100가 10보다 더 큽니다.\n"
     ]
    }
   ],
   "source": [
    "# 연습문제 1. 비교연산자를 사용한 조건식, 결과 참이면 True, 거짓이면 False 쓰기\n",
    "## 10 == 100 : False\n",
    "## 10 != 100 : True\n",
    "## 10 > 100 : False\n",
    "## 10 < 100 : True\n",
    "## 10 <= 100 : False\n",
    "## 10 >= 100 : True\n",
    "\n",
    "# 연습문제 2. 다음 세 개의 예제 중 \"참입니다\"를 출력하는 것은 몇 번 예제인가?\n",
    "## 3번\n",
    "\n",
    "# 연습문제 3. 어떤 연산자가 사용되었을 지 보기\n",
    "## 1) 치킨과 햄버거 : and\n",
    "## 2) H 브랜드와 10만원 이하 조건 검색 : and\n",
    "## 3) 65세 이상과 5살 이하 아동 : or\n",
    "\n",
    "# 연습문제 4. 내용을 채워 코드 완성하기\n",
    "a = int(input(\"> 1번쨰 숫자: \"))\n",
    "b = int(input(\"> 2번째 숫자: \"))\n",
    "print()\n",
    "\n",
    "if a > b:\n",
    "    print(\"처음 입력했던 {}가 {}보다 더 큽니다.\".format(a, b))\n",
    "\n",
    "if a < b:\n",
    "    print(\"두 번째로 입력했던 {}가 {}보다 더 큽니다.\".format(a, b))"
   ]
  },
  {
   "cell_type": "code",
   "execution_count": null,
   "outputs": [],
   "source": [],
   "metadata": {
    "collapsed": false,
    "pycharm": {
     "name": "#%%\n"
    }
   }
  }
 ],
 "metadata": {
  "kernelspec": {
   "display_name": "Python 3",
   "language": "python",
   "name": "python3"
  },
  "language_info": {
   "codemirror_mode": {
    "name": "ipython",
    "version": 2
   },
   "file_extension": ".py",
   "mimetype": "text/x-python",
   "name": "python",
   "nbconvert_exporter": "python",
   "pygments_lexer": "ipython2",
   "version": "2.7.6"
  }
 },
 "nbformat": 4,
 "nbformat_minor": 0
}