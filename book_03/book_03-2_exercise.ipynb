{
 "cells": [
  {
   "cell_type": "code",
   "execution_count": 20,
   "metadata": {
    "collapsed": true
   },
   "outputs": [],
   "source": [
    "# 확인문제 1. 실행결과 예측하기\n",
    "# 1) 12\n",
    "# 2) 5\n",
    "# 3) 12\n",
    "\n",
    "# 확인문제 2. 논리연산자를 이용해 if 조건문으로 만들어주기\n",
    "\n",
    "x = int(input(\"정수값을 입력하세요\"))"
   ]
  },
  {
   "cell_type": "code",
   "execution_count": 21,
   "outputs": [
    {
     "name": "stdout",
     "output_type": "stream",
     "text": [
      "조건에 맞습니다.\n"
     ]
    }
   ],
   "source": [
    "\n",
    "if x > 10 and x > 20:\n",
    "    print(\"조건에 맞습니다.\")"
   ],
   "metadata": {
    "collapsed": false,
    "pycharm": {
     "name": "#%%\n"
    }
   }
  },
  {
   "cell_type": "code",
   "execution_count": 22,
   "outputs": [
    {
     "name": "stdout",
     "output_type": "stream",
     "text": [
      "조건에 맞습니다.\n"
     ]
    }
   ],
   "source": [
    "if x > 20:\n",
    "    print(\"조건에 맞습니다.\")\n",
    "else:\n",
    "    print(\"다시 진행하세요\")"
   ],
   "metadata": {
    "collapsed": false,
    "pycharm": {
     "name": "#%%\n"
    }
   }
  },
  {
   "cell_type": "code",
   "execution_count": 23,
   "outputs": [
    {
     "name": "stdout",
     "output_type": "stream",
     "text": [
      "돼지 띠입니다.\n"
     ]
    }
   ],
   "source": [
    "# 확인문제 3. 띠 출력 프로그램 작성하기\n",
    "input = int(input(\"태어난 해를 입력해 주세요.\"))\n",
    "\n",
    "if input % 12 == 0:\n",
    "    print(\"원숭이 띠입니다.\")\n",
    "elif input % 12 == 1:\n",
    "    print(\"닭 띠입니다.\")\n",
    "elif input % 12 == 2:\n",
    "    print(\"개 띠입니다.\")\n",
    "elif input % 12 == 3:\n",
    "    print(\"돼지 띠입니다.\")\n",
    "elif input % 12 == 4:\n",
    "    print(\"쥐 띠입니다.\")\n",
    "elif input % 12 == 5:\n",
    "    print(\"소 띠입니다.\")\n",
    "elif input % 12 == 6:\n",
    "    print(\"범 띠입니다.\")\n",
    "elif input % 12 == 7:\n",
    "    print(\"토끼 띠입니다.\")\n",
    "elif input % 12 == 8:\n",
    "    print(\"용 띠입니다.\")\n",
    "elif input % 12 == 9:\n",
    "    print(\"뱀 띠입니다.\")\n",
    "elif input % 12 == 10:\n",
    "    print(\"말 띠입니다.\")\n",
    "else:\n",
    "    print(\"양 띠입니다.\")"
   ],
   "metadata": {
    "collapsed": false,
    "pycharm": {
     "name": "#%%\n"
    }
   }
  },
  {
   "cell_type": "code",
   "execution_count": null,
   "outputs": [],
   "source": [],
   "metadata": {
    "collapsed": false,
    "pycharm": {
     "name": "#%%\n"
    }
   }
  }
 ],
 "metadata": {
  "kernelspec": {
   "display_name": "Python 3",
   "language": "python",
   "name": "python3"
  },
  "language_info": {
   "codemirror_mode": {
    "name": "ipython",
    "version": 2
   },
   "file_extension": ".py",
   "mimetype": "text/x-python",
   "name": "python",
   "nbconvert_exporter": "python",
   "pygments_lexer": "ipython2",
   "version": "2.7.6"
  }
 },
 "nbformat": 4,
 "nbformat_minor": 0
}