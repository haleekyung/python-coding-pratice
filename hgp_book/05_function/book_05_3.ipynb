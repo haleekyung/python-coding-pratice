{
 "cells": [
  {
   "cell_type": "code",
   "execution_count": 15,
   "metadata": {
    "collapsed": true
   },
   "outputs": [
    {
     "data": {
      "text/plain": "10"
     },
     "execution_count": 15,
     "metadata": {},
     "output_type": "execute_result"
    }
   ],
   "source": [
    "# 튜플\n",
    "tupleTest = (10, 20, 30)\n",
    "tupleTest[0]"
   ]
  },
  {
   "cell_type": "code",
   "execution_count": 16,
   "outputs": [
    {
     "data": {
      "text/plain": "20"
     },
     "execution_count": 16,
     "metadata": {},
     "output_type": "execute_result"
    }
   ],
   "source": [
    "tupleTest[1]"
   ],
   "metadata": {
    "collapsed": false,
    "pycharm": {
     "name": "#%%\n"
    }
   }
  },
  {
   "cell_type": "code",
   "execution_count": 17,
   "outputs": [
    {
     "data": {
      "text/plain": "30"
     },
     "execution_count": 17,
     "metadata": {},
     "output_type": "execute_result"
    }
   ],
   "source": [
    "tupleTest[2]"
   ],
   "metadata": {
    "collapsed": false,
    "pycharm": {
     "name": "#%%\n"
    }
   }
  },
  {
   "cell_type": "code",
   "execution_count": 18,
   "outputs": [
    {
     "ename": "TypeError",
     "evalue": "'tuple' object does not support item assignment",
     "output_type": "error",
     "traceback": [
      "\u001B[0;31m---------------------------------------------------------------------------\u001B[0m",
      "\u001B[0;31mTypeError\u001B[0m                                 Traceback (most recent call last)",
      "\u001B[0;32m<ipython-input-18-da417360f03e>\u001B[0m in \u001B[0;36m<module>\u001B[0;34m\u001B[0m\n\u001B[0;32m----> 1\u001B[0;31m \u001B[0mtupleTest\u001B[0m\u001B[0;34m[\u001B[0m\u001B[0;36m0\u001B[0m\u001B[0;34m]\u001B[0m \u001B[0;34m=\u001B[0m \u001B[0;36m1\u001B[0m\u001B[0;34m\u001B[0m\u001B[0;34m\u001B[0m\u001B[0m\n\u001B[0m",
      "\u001B[0;31mTypeError\u001B[0m: 'tuple' object does not support item assignment"
     ]
    }
   ],
   "source": [
    "tupleTest[0] = 1"
   ],
   "metadata": {
    "collapsed": false,
    "pycharm": {
     "name": "#%%\n"
    }
   }
  },
  {
   "cell_type": "code",
   "execution_count": 23,
   "outputs": [
    {
     "data": {
      "text/plain": "int"
     },
     "execution_count": 23,
     "metadata": {},
     "output_type": "execute_result"
    }
   ],
   "source": [
    "tupleTest2 = (273)\n",
    "type(tupleTest2)"
   ],
   "metadata": {
    "collapsed": false,
    "pycharm": {
     "name": "#%%\n"
    }
   }
  },
  {
   "cell_type": "code",
   "execution_count": 22,
   "outputs": [
    {
     "data": {
      "text/plain": "tuple"
     },
     "execution_count": 22,
     "metadata": {},
     "output_type": "execute_result"
    }
   ],
   "source": [
    "tupleTest3 = (273, )\n",
    "type(tupleTest3)"
   ],
   "metadata": {
    "collapsed": false,
    "pycharm": {
     "name": "#%%\n"
    }
   }
  },
  {
   "cell_type": "code",
   "execution_count": 21,
   "outputs": [
    {
     "name": "stdout",
     "output_type": "stream",
     "text": [
      "a:  10\n",
      "b:  20\n",
      "c:  10\n",
      "d:  20\n"
     ]
    }
   ],
   "source": [
    "# 리스트와 튜플의 특이한 사용\n",
    "[a, b] = [10, 20]\n",
    "(c, d) = (10, 20)\n",
    "\n",
    "print(\"a: \", a)\n",
    "print(\"b: \", b)\n",
    "print(\"c: \", c)\n",
    "print(\"d: \", d)"
   ],
   "metadata": {
    "collapsed": false,
    "pycharm": {
     "name": "#%%\n"
    }
   }
  },
  {
   "cell_type": "code",
   "execution_count": 24,
   "outputs": [
    {
     "data": {
      "text/plain": "tuple"
     },
     "execution_count": 24,
     "metadata": {},
     "output_type": "execute_result"
    }
   ],
   "source": [
    "tupleTest4 = 10, 20, 30, 40 # 괄호가 없는 튜플\n",
    "type(tupleTest4)"
   ],
   "metadata": {
    "collapsed": false,
    "pycharm": {
     "name": "#%%\n"
    }
   }
  },
  {
   "cell_type": "code",
   "execution_count": 25,
   "outputs": [
    {
     "name": "stdout",
     "output_type": "stream",
     "text": [
      "괄호가 없는 튜플의 값과 자료형 출력\n",
      "tupleTest4:  (10, 20, 30)\n",
      "type(tupleTest4):  <class 'tuple'>\n",
      "\n"
     ]
    }
   ],
   "source": [
    "print(\"괄호가 없는 튜플의 값과 자료형 출력\")\n",
    "print(\"tupleTest4: \", tupleTest4)\n",
    "print(\"type(tupleTest4): \", type(tupleTest4))\n",
    "print()"
   ],
   "metadata": {
    "collapsed": false,
    "pycharm": {
     "name": "#%%\n"
    }
   }
  },
  {
   "cell_type": "code",
   "execution_count": 29,
   "outputs": [
    {
     "name": "stdout",
     "output_type": "stream",
     "text": [
      "괄호가 없는 튜플을 활용한 할당\n",
      "a:  10\n",
      "b:  20\n",
      "c:  30\n"
     ]
    }
   ],
   "source": [
    "# 괄호가 없는 튜플 활용\n",
    "a, b, c = 10, 20, 30\n",
    "print(\"괄호가 없는 튜플을 활용한 할당\")\n",
    "print(\"a: \", a)\n",
    "print(\"b: \", b)\n",
    "print(\"c: \", c)\n",
    "\n",
    "\n"
   ],
   "metadata": {
    "collapsed": false,
    "pycharm": {
     "name": "#%%\n"
    }
   }
  },
  {
   "cell_type": "code",
   "execution_count": 32,
   "outputs": [
    {
     "name": "stdout",
     "output_type": "stream",
     "text": [
      "# 교환 전 값\n",
      "a:  10\n",
      "b:  20\n",
      "\n",
      "# 교환 후 값\n",
      "a:  20\n",
      "b:  10\n"
     ]
    }
   ],
   "source": [
    "# 변수값 교환하기\n",
    "a, b = 10, 20\n",
    "\n",
    "print(\"# 교환 전 값\")\n",
    "print(\"a: \", a)\n",
    "print(\"b: \", b)\n",
    "print()\n",
    "\n",
    "# 값 교환\n",
    "a, b = b, a\n",
    "\n",
    "print(\"# 교환 후 값\")\n",
    "print(\"a: \", a)\n",
    "print(\"b: \", b)"
   ],
   "metadata": {
    "collapsed": false,
    "pycharm": {
     "name": "#%%\n"
    }
   }
  },
  {
   "cell_type": "code",
   "execution_count": 33,
   "outputs": [
    {
     "name": "stdout",
     "output_type": "stream",
     "text": [
      "a:  10\n",
      "b:  20\n"
     ]
    }
   ],
   "source": [
    "# 함수를 선언합니다.\n",
    "def test():\n",
    "    return (10, 20)\n",
    "\n",
    "# 여러 개의 값을 리턴\n",
    "a, b = test()\n",
    "\n",
    "# 출력합니다.\n",
    "print(\"a: \", a)\n",
    "print(\"b: \", b)"
   ],
   "metadata": {
    "collapsed": false,
    "pycharm": {
     "name": "#%%\n"
    }
   }
  },
  {
   "cell_type": "code",
   "execution_count": 34,
   "outputs": [
    {
     "name": "stdout",
     "output_type": "stream",
     "text": [
      "0번째 요소는 1입니다.\n",
      "1번째 요소는 2입니다.\n",
      "2번째 요소는 3입니다.\n",
      "3번째 요소는 4입니다.\n",
      "4번째 요소는 5입니다.\n",
      "5번째 요소는 6입니다.\n"
     ]
    }
   ],
   "source": [
    "# enumerate() 함수 이용\n",
    "for i, value in enumerate([1, 2, 3, 4, 5, 6]):\n",
    "    print(\"{}번째 요소는 {}입니다.\".format(i, value))"
   ],
   "metadata": {
    "collapsed": false,
    "pycharm": {
     "name": "#%%\n"
    }
   }
  },
  {
   "cell_type": "code",
   "execution_count": 36,
   "outputs": [
    {
     "data": {
      "text/plain": "(2, 17)"
     },
     "execution_count": 36,
     "metadata": {},
     "output_type": "execute_result"
    }
   ],
   "source": [
    "a, b = 97, 40\n",
    "divmod(a, b)"
   ],
   "metadata": {
    "collapsed": false,
    "pycharm": {
     "name": "#%%\n"
    }
   }
  },
  {
   "cell_type": "code",
   "execution_count": 37,
   "outputs": [],
   "source": [
    "x, y = divmod(a, b)"
   ],
   "metadata": {
    "collapsed": false,
    "pycharm": {
     "name": "#%%\n"
    }
   }
  },
  {
   "cell_type": "code",
   "execution_count": 38,
   "outputs": [
    {
     "data": {
      "text/plain": "2"
     },
     "execution_count": 38,
     "metadata": {},
     "output_type": "execute_result"
    }
   ],
   "source": [
    "x"
   ],
   "metadata": {
    "collapsed": false,
    "pycharm": {
     "name": "#%%\n"
    }
   }
  },
  {
   "cell_type": "code",
   "execution_count": 39,
   "outputs": [
    {
     "data": {
      "text/plain": "17"
     },
     "execution_count": 39,
     "metadata": {},
     "output_type": "execute_result"
    }
   ],
   "source": [
    "y"
   ],
   "metadata": {
    "collapsed": false,
    "pycharm": {
     "name": "#%%\n"
    }
   }
  },
  {
   "cell_type": "code",
   "execution_count": 41,
   "outputs": [
    {
     "name": "stdout",
     "output_type": "stream",
     "text": [
      "안녕하세요\n",
      "안녕하세요\n",
      "안녕하세요\n",
      "안녕하세요\n",
      "안녕하세요\n",
      "안녕하세요\n",
      "안녕하세요\n",
      "안녕하세요\n",
      "안녕하세요\n",
      "안녕하세요\n"
     ]
    }
   ],
   "source": [
    "def call10Times(func):\n",
    "    for i in range(10):\n",
    "        func()\n",
    "\n",
    "# 간단히 출력하는 함수\n",
    "def print_hello():\n",
    "    print(\"안녕하세요\")\n",
    "\n",
    "# 조합하기\n",
    "call10Times(print_hello)"
   ],
   "metadata": {
    "collapsed": false,
    "pycharm": {
     "name": "#%%\n"
    }
   }
  },
  {
   "cell_type": "code",
   "execution_count": 46,
   "outputs": [
    {
     "name": "stdout",
     "output_type": "stream",
     "text": [
      "# map 함수 실행 결과\n",
      "<map object at 0x7fb68da8b340>\n",
      "[1, 4, 9, 16, 25]\n",
      "\n",
      "# filter 함수 실행 결과\n",
      "<filter object at 0x7fb68d4b0f40>\n",
      "[1, 2]\n",
      "\n"
     ]
    }
   ],
   "source": [
    "# filter()함수와 map()함수\n",
    "# 함수를 매개변수로 전달하는 대표적인 표준함수\n",
    "\n",
    "# map(함수, 리스트)\n",
    "# filter(함수, 리스트)\n",
    "\n",
    "def power(item):\n",
    "    return item * item\n",
    "\n",
    "def under_3(item):\n",
    "    return item < 3\n",
    "\n",
    "# 리스트를 선언함\n",
    "listItem = [1, 2, 3, 4, 5]\n",
    "\n",
    "# 변수를 선언함\n",
    "# map 함수 사용하기\n",
    "output = map(power, listItem)\n",
    "print(\"# map 함수 실행 결과\")\n",
    "print(output)\n",
    "print(list(output))\n",
    "print()\n",
    "\n",
    "# filter 함수 사용하기\n",
    "outputB = filter(under_3, listItem)\n",
    "print(\"# filter 함수 실행 결과\")\n",
    "print(outputB)\n",
    "print(list(outputB))\n",
    "print()"
   ],
   "metadata": {
    "collapsed": false,
    "pycharm": {
     "name": "#%%\n"
    }
   }
  },
  {
   "cell_type": "code",
   "execution_count": 49,
   "outputs": [
    {
     "name": "stdout",
     "output_type": "stream",
     "text": [
      "# map()의 실행결과\n",
      "map(power, listInput3):  <map object at 0x7fb68d4a7fa0>\n",
      "map(power, listInput3):  [1, 4, 9, 16, 25]\n",
      "# filter()의 실행결과\n",
      "filter(under_3, listInput3):  <filter object at 0x7fb68cdb5580>\n",
      "filter(under_3, listInput3):  [1, 2]\n"
     ]
    }
   ],
   "source": [
    "# 람다 함수 쓰기\n",
    "power = lambda x : x * x\n",
    "under_3 = lambda x : x < 3\n",
    "\n",
    "# 변수 선언하기\n",
    "listInput3 = [1, 2, 3, 4, 5]\n",
    "\n",
    "# map()함수 사용하기\n",
    "output_a = map(power, listInput3)\n",
    "print(\"# map()의 실행결과\")\n",
    "print(\"map(power, listInput3): \", output_a)\n",
    "print(\"map(power, listInput3): \", list(output_a))\n",
    "\n",
    "# filter 함수 사용하기\n",
    "output_b = filter(under_3, listInput3)\n",
    "print(\"# filter()의 실행결과\")\n",
    "print(\"filter(under_3, listInput3): \", output_b)\n",
    "print(\"filter(under_3, listInput3): \", list(output_b))"
   ],
   "metadata": {
    "collapsed": false,
    "pycharm": {
     "name": "#%%\n"
    }
   }
  },
  {
   "cell_type": "code",
   "execution_count": 50,
   "outputs": [
    {
     "name": "stdout",
     "output_type": "stream",
     "text": [
      "# map()의 실행결과\n",
      "map(power, listInput3):  <map object at 0x7fb68ced1760>\n",
      "map(power, listInput3):  [1, 4, 9, 16, 25]\n",
      "# filter()의 실행결과\n",
      "filter(under_3, listInput3):  <filter object at 0x7fb68ced1700>\n",
      "filter(under_3, listInput3):  [1, 2]\n"
     ]
    }
   ],
   "source": [
    "# 인라인 람다\n",
    "# 변수 선언하기\n",
    "listInput4 = [1, 2, 3, 4, 5]\n",
    "\n",
    "# map()함수 사용하기\n",
    "output_a = map(lambda x: x * x, listInput4)\n",
    "print(\"# map()의 실행결과\")\n",
    "print(\"map(power, listInput3): \", output_a)\n",
    "print(\"map(power, listInput3): \", list(output_a))\n",
    "\n",
    "# filter()함수 사용하기\n",
    "output_b = filter(lambda x: x < 3, listInput4)\n",
    "print(\"# filter()의 실행결과\")\n",
    "print(\"filter(under_3, listInput3): \", output_b)\n",
    "print(\"filter(under_3, listInput3): \", list(output_b))"
   ],
   "metadata": {
    "collapsed": false,
    "pycharm": {
     "name": "#%%\n"
    }
   }
  },
  {
   "cell_type": "code",
   "execution_count": 53,
   "outputs": [
    {
     "data": {
      "text/plain": "<function __main__.<lambda>(x, y)>"
     },
     "execution_count": 53,
     "metadata": {},
     "output_type": "execute_result"
    }
   ],
   "source": [
    "# 매개변수가 여러개인 람다 처리\n",
    "lambda x, y : x * y"
   ],
   "metadata": {
    "collapsed": false,
    "pycharm": {
     "name": "#%%\n"
    }
   }
  },
  {
   "cell_type": "code",
   "execution_count": 58,
   "outputs": [],
   "source": [
    "# 파일처리하기\n",
    "\n",
    "# 파일 열기\n",
    "file = open(\"basic.txt\", \"w\")"
   ],
   "metadata": {
    "collapsed": false,
    "pycharm": {
     "name": "#%%\n"
    }
   }
  },
  {
   "cell_type": "code",
   "execution_count": 59,
   "outputs": [
    {
     "data": {
      "text/plain": "27"
     },
     "execution_count": 59,
     "metadata": {},
     "output_type": "execute_result"
    }
   ],
   "source": [
    "# 파일에 텍스트 쓰기\n",
    "file.write(\"Hello Python Programming..!\")"
   ],
   "metadata": {
    "collapsed": false,
    "pycharm": {
     "name": "#%%\n"
    }
   }
  },
  {
   "cell_type": "code",
   "execution_count": 60,
   "outputs": [],
   "source": [
    "# 파일 닫기\n",
    "file.close()"
   ],
   "metadata": {
    "collapsed": false,
    "pycharm": {
     "name": "#%%\n"
    }
   }
  },
  {
   "cell_type": "code",
   "execution_count": 62,
   "outputs": [
    {
     "name": "stdout",
     "output_type": "stream",
     "text": [
      "Hello Python Programming..!\n"
     ]
    }
   ],
   "source": [
    "# read() 함수로 텍스트 읽기\n",
    "# 파일 열기\n",
    "with open(\"basic.txt\", \"r\") as file:\n",
    "    # 파일을 읽고 출력하기\n",
    "    contents = file.read()\n",
    "print(contents)"
   ],
   "metadata": {
    "collapsed": false,
    "pycharm": {
     "name": "#%%\n"
    }
   }
  },
  {
   "cell_type": "code",
   "execution_count": 66,
   "outputs": [],
   "source": [
    "# 랜덤하게 1000명의 키와 몸무게 만들기\n",
    "# 랜덤한 숫자 불러오기\n",
    "import random\n",
    "\n",
    "# 간단한 한글 리스트 만들기\n",
    "hanguls  = list(\"가나다라마바사아자차카타파하\")\n",
    "\n",
    "# 파일을 쓰기 모드로 열기\n",
    "with open(\"info.txt\", \"w\") as file:\n",
    "    for i in range(1000):\n",
    "        # 랜덤한 값으로 변수 생성\n",
    "        name = random.choice(hanguls) + random.choice(hanguls)\n",
    "        weight = random.randrange(40, 100)\n",
    "        height = random.randrange(140, 200)\n",
    "\n",
    "        # 텍스트 쓰기\n",
    "        file.write(\"{}, {}. {}\\n\".format(name, weight, height))"
   ],
   "metadata": {
    "collapsed": false,
    "pycharm": {
     "name": "#%%\n"
    }
   }
  },
  {
   "cell_type": "code",
   "execution_count": null,
   "outputs": [],
   "source": [],
   "metadata": {
    "collapsed": false,
    "pycharm": {
     "name": "#%%\n"
    }
   }
  }
 ],
 "metadata": {
  "kernelspec": {
   "display_name": "Python 3",
   "language": "python",
   "name": "python3"
  },
  "language_info": {
   "codemirror_mode": {
    "name": "ipython",
    "version": 2
   },
   "file_extension": ".py",
   "mimetype": "text/x-python",
   "name": "python",
   "nbconvert_exporter": "python",
   "pygments_lexer": "ipython2",
   "version": "2.7.6"
  }
 },
 "nbformat": 4,
 "nbformat_minor": 0
}