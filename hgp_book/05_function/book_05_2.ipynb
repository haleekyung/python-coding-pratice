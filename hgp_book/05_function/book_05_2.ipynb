{
 "cells": [
  {
   "cell_type": "code",
   "execution_count": 2,
   "metadata": {
    "collapsed": true,
    "pycharm": {
     "name": "#%%\n"
    }
   },
   "outputs": [
    {
     "name": "stdout",
     "output_type": "stream",
     "text": [
      "6\n",
      "1!:  1\n",
      "2!:  2\n",
      "3!:  6\n",
      "4!:  24\n",
      "5!:  120\n"
     ]
    }
   ],
   "source": [
    "\n",
    "# 반복문으로 팩토리얼 구하기\n",
    "def factorial(n):\n",
    "    output = 1 # 설정값은 1로, 0으로 설정하면 변화가 없기 때문\n",
    "    for i in range(1, n+1):\n",
    "        output *= i\n",
    "    return output\n",
    "\n",
    "print(factorial(3))\n",
    "print(\"1!: \", factorial(1))\n",
    "print(\"2!: \", factorial(2))\n",
    "print(\"3!: \", factorial(3))\n",
    "print(\"4!: \", factorial(4))\n",
    "print(\"5!: \", factorial(5))"
   ]
  },
  {
   "cell_type": "code",
   "execution_count": 3,
   "outputs": [
    {
     "name": "stdout",
     "output_type": "stream",
     "text": [
      "1!:  1\n",
      "2!:  2\n",
      "3!:  6\n",
      "4!:  24\n",
      "5!:  120\n"
     ]
    }
   ],
   "source": [
    "# 재귀함수로 팩토리얼 구하기 : 자기 자신을 호출하는 것 의미\n",
    "# factorial(n) = n * factorial(n - 1)\n",
    "\n",
    "# 함수 선언하기\n",
    "def factorial(n):\n",
    "    # n이 0이면 1을 리턴\n",
    "    if n == 0:\n",
    "        return 1 # n이 0이 아니라면 n * (n-1)!을 리턴\n",
    "    else:\n",
    "        return n * factorial(n - 1)\n",
    "\n",
    "# 함수 호출하기\n",
    "print(\"1!: \", factorial(1))\n",
    "print(\"2!: \", factorial(2))\n",
    "print(\"3!: \", factorial(3))\n",
    "print(\"4!: \", factorial(4))\n",
    "print(\"5!: \", factorial(5))\n",
    "\n"
   ],
   "metadata": {
    "collapsed": false,
    "pycharm": {
     "name": "#%%\n"
    }
   }
  },
  {
   "cell_type": "code",
   "execution_count": 5,
   "outputs": [
    {
     "name": "stdout",
     "output_type": "stream",
     "text": [
      "fibonacci(1):  1\n",
      "fibonacci(2):  1\n",
      "fibonacci(3):  2\n",
      "fibonacci(4):  3\n",
      "fibonacci(5):  5\n"
     ]
    }
   ],
   "source": [
    "# 피보나치 수열\n",
    "def fibonacci(n):\n",
    "    if n == 1:\n",
    "        return 1\n",
    "    if n == 2:\n",
    "        return 1\n",
    "    else:\n",
    "        return fibonacci(n - 1) + fibonacci(n - 2)\n",
    "\n",
    "# 함수 호출하기\n",
    "print(\"fibonacci(1): \", fibonacci(1))\n",
    "print(\"fibonacci(2): \", fibonacci(2))\n",
    "print(\"fibonacci(3): \", fibonacci(3))\n",
    "print(\"fibonacci(4): \", fibonacci(4))\n",
    "print(\"fibonacci(5): \", fibonacci(5))"
   ],
   "metadata": {
    "collapsed": false,
    "pycharm": {
     "name": "#%%\n"
    }
   }
  },
  {
   "cell_type": "code",
   "execution_count": 6,
   "outputs": [
    {
     "name": "stdout",
     "output_type": "stream",
     "text": [
      "fibonacci(35):  9227465\n"
     ]
    }
   ],
   "source": [
    "print(\"fibonacci(35): \", fibonacci(35))"
   ],
   "metadata": {
    "collapsed": false,
    "pycharm": {
     "name": "#%%\n"
    }
   }
  },
  {
   "cell_type": "code",
   "execution_count": 10,
   "outputs": [
    {
     "name": "stdout",
     "output_type": "stream",
     "text": [
      "fibonacci(10)를 구합니다.\n",
      "fibonacci(9)를 구합니다.\n",
      "fibonacci(8)를 구합니다.\n",
      "fibonacci(7)를 구합니다.\n",
      "fibonacci(6)를 구합니다.\n",
      "fibonacci(5)를 구합니다.\n",
      "fibonacci(4)를 구합니다.\n",
      "fibonacci(3)를 구합니다.\n",
      "fibonacci(2)를 구합니다.\n",
      "fibonacci(1)를 구합니다.\n",
      "fibonacci(2)를 구합니다.\n",
      "fibonacci(3)를 구합니다.\n",
      "fibonacci(2)를 구합니다.\n",
      "fibonacci(1)를 구합니다.\n",
      "fibonacci(4)를 구합니다.\n",
      "fibonacci(3)를 구합니다.\n",
      "fibonacci(2)를 구합니다.\n",
      "fibonacci(1)를 구합니다.\n",
      "fibonacci(2)를 구합니다.\n",
      "fibonacci(5)를 구합니다.\n",
      "fibonacci(4)를 구합니다.\n",
      "fibonacci(3)를 구합니다.\n",
      "fibonacci(2)를 구합니다.\n",
      "fibonacci(1)를 구합니다.\n",
      "fibonacci(2)를 구합니다.\n",
      "fibonacci(3)를 구합니다.\n",
      "fibonacci(2)를 구합니다.\n",
      "fibonacci(1)를 구합니다.\n",
      "fibonacci(6)를 구합니다.\n",
      "fibonacci(5)를 구합니다.\n",
      "fibonacci(4)를 구합니다.\n",
      "fibonacci(3)를 구합니다.\n",
      "fibonacci(2)를 구합니다.\n",
      "fibonacci(1)를 구합니다.\n",
      "fibonacci(2)를 구합니다.\n",
      "fibonacci(3)를 구합니다.\n",
      "fibonacci(2)를 구합니다.\n",
      "fibonacci(1)를 구합니다.\n",
      "fibonacci(4)를 구합니다.\n",
      "fibonacci(3)를 구합니다.\n",
      "fibonacci(2)를 구합니다.\n",
      "fibonacci(1)를 구합니다.\n",
      "fibonacci(2)를 구합니다.\n",
      "fibonacci(7)를 구합니다.\n",
      "fibonacci(6)를 구합니다.\n",
      "fibonacci(5)를 구합니다.\n",
      "fibonacci(4)를 구합니다.\n",
      "fibonacci(3)를 구합니다.\n",
      "fibonacci(2)를 구합니다.\n",
      "fibonacci(1)를 구합니다.\n",
      "fibonacci(2)를 구합니다.\n",
      "fibonacci(3)를 구합니다.\n",
      "fibonacci(2)를 구합니다.\n",
      "fibonacci(1)를 구합니다.\n",
      "fibonacci(4)를 구합니다.\n",
      "fibonacci(3)를 구합니다.\n",
      "fibonacci(2)를 구합니다.\n",
      "fibonacci(1)를 구합니다.\n",
      "fibonacci(2)를 구합니다.\n",
      "fibonacci(5)를 구합니다.\n",
      "fibonacci(4)를 구합니다.\n",
      "fibonacci(3)를 구합니다.\n",
      "fibonacci(2)를 구합니다.\n",
      "fibonacci(1)를 구합니다.\n",
      "fibonacci(2)를 구합니다.\n",
      "fibonacci(3)를 구합니다.\n",
      "fibonacci(2)를 구합니다.\n",
      "fibonacci(1)를 구합니다.\n",
      "fibonacci(8)를 구합니다.\n",
      "fibonacci(7)를 구합니다.\n",
      "fibonacci(6)를 구합니다.\n",
      "fibonacci(5)를 구합니다.\n",
      "fibonacci(4)를 구합니다.\n",
      "fibonacci(3)를 구합니다.\n",
      "fibonacci(2)를 구합니다.\n",
      "fibonacci(1)를 구합니다.\n",
      "fibonacci(2)를 구합니다.\n",
      "fibonacci(3)를 구합니다.\n",
      "fibonacci(2)를 구합니다.\n",
      "fibonacci(1)를 구합니다.\n",
      "fibonacci(4)를 구합니다.\n",
      "fibonacci(3)를 구합니다.\n",
      "fibonacci(2)를 구합니다.\n",
      "fibonacci(1)를 구합니다.\n",
      "fibonacci(2)를 구합니다.\n",
      "fibonacci(5)를 구합니다.\n",
      "fibonacci(4)를 구합니다.\n",
      "fibonacci(3)를 구합니다.\n",
      "fibonacci(2)를 구합니다.\n",
      "fibonacci(1)를 구합니다.\n",
      "fibonacci(2)를 구합니다.\n",
      "fibonacci(3)를 구합니다.\n",
      "fibonacci(2)를 구합니다.\n",
      "fibonacci(1)를 구합니다.\n",
      "fibonacci(6)를 구합니다.\n",
      "fibonacci(5)를 구합니다.\n",
      "fibonacci(4)를 구합니다.\n",
      "fibonacci(3)를 구합니다.\n",
      "fibonacci(2)를 구합니다.\n",
      "fibonacci(1)를 구합니다.\n",
      "fibonacci(2)를 구합니다.\n",
      "fibonacci(3)를 구합니다.\n",
      "fibonacci(2)를 구합니다.\n",
      "fibonacci(1)를 구합니다.\n",
      "fibonacci(4)를 구합니다.\n",
      "fibonacci(3)를 구합니다.\n",
      "fibonacci(2)를 구합니다.\n",
      "fibonacci(1)를 구합니다.\n",
      "fibonacci(2)를 구합니다.\n",
      "----\n",
      "fibonacci(10)계산에 활용된 덧셈 수는 109번입니다.\n"
     ]
    }
   ],
   "source": [
    "# 변수 사용하기\n",
    "counter = 0\n",
    "\n",
    "def fibonacci(n):\n",
    "    print(\"fibonacci({})를 구합니다.\".format(n))\n",
    "    global counter\n",
    "    counter += 1\n",
    "\n",
    "    if n == 1:\n",
    "        return 1\n",
    "    if n == 2:\n",
    "        return 1\n",
    "    else:\n",
    "        return fibonacci(n - 1) + fibonacci(n - 2)\n",
    "\n",
    "fibonacci(10)\n",
    "print(\"----\")\n",
    "print(\"fibonacci(10)계산에 활용된 덧셈 수는 {}번입니다.\".format(counter))"
   ],
   "metadata": {
    "collapsed": false,
    "pycharm": {
     "name": "#%%\n"
    }
   }
  },
  {
   "cell_type": "code",
   "execution_count": 12,
   "outputs": [
    {
     "name": "stdout",
     "output_type": "stream",
     "text": [
      "fibonacci(10):  55\n",
      "fibonacci(20):  6765\n",
      "fibonacci(30):  832040\n",
      "fibonacci(40):  102334155\n",
      "fibonacci(50):  12586269025\n"
     ]
    }
   ],
   "source": [
    "dictionary = {\n",
    "    1: 1,\n",
    "    2: 1\n",
    "}\n",
    "\n",
    "def fibonacci(n):\n",
    "    if n in dictionary:\n",
    "        return dictionary[n]\n",
    "\n",
    "    else:\n",
    "        output = fibonacci(n - 1) + fibonacci(n - 2)\n",
    "        dictionary[n] = output\n",
    "        return output\n",
    "\n",
    "print(\"fibonacci(10): \", fibonacci(10))\n",
    "print(\"fibonacci(20): \", fibonacci(20))\n",
    "print(\"fibonacci(30): \", fibonacci(30))\n",
    "print(\"fibonacci(40): \", fibonacci(40))\n",
    "print(\"fibonacci(50): \", fibonacci(50))"
   ],
   "metadata": {
    "collapsed": false,
    "pycharm": {
     "name": "#%%\n"
    }
   }
  },
  {
   "cell_type": "code",
   "execution_count": 1,
   "outputs": [
    {
     "name": "stdout",
     "output_type": "stream",
     "text": [
      "87.92\n",
      "615.44\n"
     ]
    }
   ],
   "source": [
    "# 주석\n",
    "number_input_a = input(\"숫자 입력\")\n",
    "radius = float(number_input_a)\n",
    "\n",
    "print(2 * 3.14 * radius)\n",
    "print(3.14 * radius * radius)"
   ],
   "metadata": {
    "collapsed": false,
    "pycharm": {
     "name": "#%%\n"
    }
   }
  },
  {
   "cell_type": "code",
   "execution_count": 3,
   "outputs": [
    {
     "ename": "ValueError",
     "evalue": "could not convert string to float: ''",
     "output_type": "error",
     "traceback": [
      "\u001B[0;31m---------------------------------------------------------------------------\u001B[0m",
      "\u001B[0;31mValueError\u001B[0m                                Traceback (most recent call last)",
      "\u001B[0;32m<ipython-input-3-557428f12fa3>\u001B[0m in \u001B[0;36m<module>\u001B[0;34m\u001B[0m\n\u001B[1;32m     10\u001B[0m     \u001B[0;32mreturn\u001B[0m \u001B[0;36m3.14\u001B[0m \u001B[0;34m*\u001B[0m \u001B[0mradius\u001B[0m \u001B[0;34m*\u001B[0m \u001B[0mradius\u001B[0m\u001B[0;34m\u001B[0m\u001B[0;34m\u001B[0m\u001B[0m\n\u001B[1;32m     11\u001B[0m \u001B[0;34m\u001B[0m\u001B[0m\n\u001B[0;32m---> 12\u001B[0;31m \u001B[0mradius\u001B[0m \u001B[0;34m=\u001B[0m \u001B[0mnumber_input\u001B[0m\u001B[0;34m(\u001B[0m\u001B[0;34m)\u001B[0m\u001B[0;34m\u001B[0m\u001B[0;34m\u001B[0m\u001B[0m\n\u001B[0m\u001B[1;32m     13\u001B[0m \u001B[0mprint\u001B[0m\u001B[0;34m(\u001B[0m\u001B[0mget_circumference\u001B[0m\u001B[0;34m(\u001B[0m\u001B[0mradius\u001B[0m\u001B[0;34m)\u001B[0m\u001B[0;34m)\u001B[0m\u001B[0;34m\u001B[0m\u001B[0;34m\u001B[0m\u001B[0m\n\u001B[1;32m     14\u001B[0m \u001B[0mprint\u001B[0m\u001B[0;34m(\u001B[0m\u001B[0mget_circle_area\u001B[0m\u001B[0;34m(\u001B[0m\u001B[0mradius\u001B[0m\u001B[0;34m)\u001B[0m\u001B[0;34m)\u001B[0m\u001B[0;34m\u001B[0m\u001B[0;34m\u001B[0m\u001B[0m\n",
      "\u001B[0;32m<ipython-input-3-557428f12fa3>\u001B[0m in \u001B[0;36mnumber_input\u001B[0;34m()\u001B[0m\n\u001B[1;32m      2\u001B[0m \u001B[0;32mdef\u001B[0m \u001B[0mnumber_input\u001B[0m\u001B[0;34m(\u001B[0m\u001B[0;34m)\u001B[0m\u001B[0;34m:\u001B[0m\u001B[0;34m\u001B[0m\u001B[0;34m\u001B[0m\u001B[0m\n\u001B[1;32m      3\u001B[0m     \u001B[0moutput\u001B[0m \u001B[0;34m=\u001B[0m \u001B[0minput\u001B[0m\u001B[0;34m(\u001B[0m\u001B[0;34m\"숫자 입력\"\u001B[0m\u001B[0;34m)\u001B[0m\u001B[0;34m\u001B[0m\u001B[0;34m\u001B[0m\u001B[0m\n\u001B[0;32m----> 4\u001B[0;31m     \u001B[0;32mreturn\u001B[0m \u001B[0mfloat\u001B[0m\u001B[0;34m(\u001B[0m\u001B[0moutput\u001B[0m\u001B[0;34m)\u001B[0m\u001B[0;34m\u001B[0m\u001B[0;34m\u001B[0m\u001B[0m\n\u001B[0m\u001B[1;32m      5\u001B[0m \u001B[0;34m\u001B[0m\u001B[0m\n\u001B[1;32m      6\u001B[0m \u001B[0;32mdef\u001B[0m \u001B[0mget_circumference\u001B[0m\u001B[0;34m(\u001B[0m\u001B[0mradius\u001B[0m\u001B[0;34m)\u001B[0m\u001B[0;34m:\u001B[0m\u001B[0;34m\u001B[0m\u001B[0;34m\u001B[0m\u001B[0m\n",
      "\u001B[0;31mValueError\u001B[0m: could not convert string to float: ''"
     ]
    }
   ],
   "source": [
    "# 함수를 활용한 코드\n",
    "def number_input():\n",
    "    output = input(\"숫자 입력\")\n",
    "    return float(output)\n",
    "\n",
    "def get_circumference(radius):\n",
    "    return 2 * 3.14 * radius\n",
    "\n",
    "def get_circle_area(radius):\n",
    "    return 3.14 * radius * radius\n",
    "\n",
    "radius = number_input()\n",
    "print(get_circumference(radius))\n",
    "print(get_circle_area(radius))"
   ],
   "metadata": {
    "collapsed": false,
    "pycharm": {
     "name": "#%%\n"
    }
   }
  },
  {
   "cell_type": "code",
   "execution_count": 4,
   "outputs": [
    {
     "name": "stdout",
     "output_type": "stream",
     "text": [
      "<p>안녕하세요.</p>\n",
      "<p>간단한 HTML 태그를 만드는 예입니다.</p>\n"
     ]
    }
   ],
   "source": [
    "# 간단한 함수 만들기\n",
    "# p 태그로 감싸는 함수\n",
    "\n",
    "# 함수를 사용하지 않을 때\n",
    "print(\"<p>{}</p>\".format(\"안녕하세요.\"))\n",
    "print(\"<p>{}</p>\".format(\"간단한 HTML 태그를 만드는 예입니다.\"))"
   ],
   "metadata": {
    "collapsed": false,
    "pycharm": {
     "name": "#%%\n"
    }
   }
  },
  {
   "cell_type": "code",
   "execution_count": 5,
   "outputs": [
    {
     "name": "stdout",
     "output_type": "stream",
     "text": [
      "<p class='content-line'>안녕하세요<p>\n",
      "<p class='content-line'>간단한 HTML 태그를 만드는 예입니다.<p>\n"
     ]
    }
   ],
   "source": [
    "# 함수를 사용할 때\n",
    "\n",
    "def p(content):\n",
    "    return \"<p class='content-line'>{}<p>\".format(content)\n",
    "\n",
    "print(p(\"안녕하세요\"))\n",
    "print(p(\"간단한 HTML 태그를 만드는 예입니다.\"))"
   ],
   "metadata": {
    "collapsed": false,
    "pycharm": {
     "name": "#%%\n"
    }
   }
  },
  {
   "cell_type": "code",
   "execution_count": null,
   "outputs": [],
   "source": [],
   "metadata": {
    "collapsed": false,
    "pycharm": {
     "name": "#%%\n"
    }
   }
  }
 ],
 "metadata": {
  "kernelspec": {
   "name": "python3",
   "language": "python",
   "display_name": "Python 3"
  },
  "language_info": {
   "codemirror_mode": {
    "name": "ipython",
    "version": 2
   },
   "file_extension": ".py",
   "mimetype": "text/x-python",
   "name": "python",
   "nbconvert_exporter": "python",
   "pygments_lexer": "ipython2",
   "version": "2.7.6"
  }
 },
 "nbformat": 4,
 "nbformat_minor": 0
}