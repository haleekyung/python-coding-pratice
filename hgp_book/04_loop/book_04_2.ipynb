{
 "cells": [
  {
   "cell_type": "code",
   "execution_count": 2,
   "metadata": {
    "collapsed": true
   },
   "outputs": [
    {
     "name": "stdout",
     "output_type": "stream",
     "text": [
      "{'name': '어벤져스 엔드게임', 'type': '히어로 무비'}\n"
     ]
    }
   ],
   "source": [
    "dict_a = {\n",
    "    \"name\": \"어벤져스 엔드게임\",\n",
    "    \"type\": \"히어로 무비\"\n",
    "}\n",
    "\n",
    "print(dict_a)"
   ]
  },
  {
   "cell_type": "code",
   "execution_count": 3,
   "outputs": [
    {
     "data": {
      "text/plain": "'어벤져스 엔드게임'"
     },
     "execution_count": 3,
     "metadata": {},
     "output_type": "execute_result"
    }
   ],
   "source": [
    "dict_a[\"name\"] # 특정 키값만 추출1"
   ],
   "metadata": {
    "collapsed": false,
    "pycharm": {
     "name": "#%%\n"
    }
   }
  },
  {
   "cell_type": "code",
   "execution_count": 5,
   "outputs": [
    {
     "data": {
      "text/plain": "'히어로 무비'"
     },
     "execution_count": 5,
     "metadata": {},
     "output_type": "execute_result"
    }
   ],
   "source": [
    "dict_a[\"type\"] # 특정 키값만 추출2"
   ],
   "metadata": {
    "collapsed": false,
    "pycharm": {
     "name": "#%%\n"
    }
   }
  },
  {
   "cell_type": "code",
   "execution_count": 6,
   "outputs": [
    {
     "data": {
      "text/plain": "{'director': ['안소니 루소', '조 루소'],\n 'cast': ['아이언맨', '타노스', '토르', '닥터스트레인지', '헐크']}"
     },
     "execution_count": 6,
     "metadata": {},
     "output_type": "execute_result"
    }
   ],
   "source": [
    "dict_b = {\n",
    "    \"director\" : [\"안소니 루소\", \"조 루소\"],\n",
    "    \"cast\" : [\"아이언맨\", \"타노스\", \"토르\", \"닥터스트레인지\", \"헐크\"]\n",
    "}\n",
    "\n",
    "\n",
    "dict_b"
   ],
   "metadata": {
    "collapsed": false,
    "pycharm": {
     "name": "#%%\n"
    }
   }
  },
  {
   "cell_type": "code",
   "execution_count": 7,
   "outputs": [
    {
     "data": {
      "text/plain": "['아이언맨', '타노스', '토르', '닥터스트레인지', '헐크']"
     },
     "execution_count": 7,
     "metadata": {},
     "output_type": "execute_result"
    }
   ],
   "source": [
    "dict_b[\"cast\"]"
   ],
   "metadata": {
    "collapsed": false,
    "pycharm": {
     "name": "#%%\n"
    }
   }
  },
  {
   "cell_type": "code",
   "execution_count": 8,
   "outputs": [
    {
     "data": {
      "text/plain": "['안소니 루소', '조 루소']"
     },
     "execution_count": 8,
     "metadata": {},
     "output_type": "execute_result"
    }
   ],
   "source": [
    "dict_b[\"director\"]"
   ],
   "metadata": {
    "collapsed": false,
    "pycharm": {
     "name": "#%%\n"
    }
   }
  },
  {
   "cell_type": "code",
   "execution_count": 42,
   "outputs": [
    {
     "name": "stdout",
     "output_type": "stream",
     "text": [
      "name:  7D 건조 망고\n",
      "type:  당절임\n",
      "ingredient:  ['망고', '설탕', '메타중아황산나트륨', '치자황색소']\n",
      "origin: , 필리핀\n",
      "\n"
     ]
    }
   ],
   "source": [
    "# 딕셔너리 요소에 접근하기\n",
    "## 딕셔너리를 선언하기\n",
    "dictionary = {\n",
    "    \"name\" : \"7D 건조 망고\",\n",
    "    \"type\" : \"당절임\",\n",
    "    \"ingredient\" : [\"망고\", \"설탕\", \"메타중아황산나트륨\", \"치자황색소\"],\n",
    "    \"origin\" : \"필리핀\"\n",
    "\n",
    "}\n",
    "\n",
    "## 출력하기\n",
    "print(\"name: \", dictionary[\"name\"])\n",
    "print(\"type: \", dictionary[\"type\"])\n",
    "print(\"ingredient: \", dictionary[\"ingredient\"])\n",
    "print(\"origin: ,\", dictionary[\"origin\"])\n",
    "print()"
   ],
   "metadata": {
    "collapsed": false,
    "pycharm": {
     "name": "#%%\n"
    }
   }
  },
  {
   "cell_type": "code",
   "execution_count": 43,
   "outputs": [
    {
     "name": "stdout",
     "output_type": "stream",
     "text": [
      "name:  8D 건조 망고\n"
     ]
    }
   ],
   "source": [
    "## 값을 변경하기\n",
    "dictionary[\"name\"] = \"8D 건조 망고\"\n",
    "print(\"name: \", dictionary[\"name\"])"
   ],
   "metadata": {
    "collapsed": false,
    "pycharm": {
     "name": "#%%\n"
    }
   }
  },
  {
   "cell_type": "code",
   "execution_count": 44,
   "outputs": [
    {
     "data": {
      "text/plain": "['망고', '설탕', '메타중아황산나트륨', '치자황색소']"
     },
     "execution_count": 44,
     "metadata": {},
     "output_type": "execute_result"
    }
   ],
   "source": [
    "dictionary[\"ingredient\"]"
   ],
   "metadata": {
    "collapsed": false,
    "pycharm": {
     "name": "#%%\n"
    }
   }
  },
  {
   "cell_type": "code",
   "execution_count": 45,
   "outputs": [
    {
     "data": {
      "text/plain": "['망고', '설탕', '메타중아황산나트륨']"
     },
     "execution_count": 45,
     "metadata": {},
     "output_type": "execute_result"
    }
   ],
   "source": [
    "dictionary[\"ingredient\"][0:3]"
   ],
   "metadata": {
    "collapsed": false,
    "pycharm": {
     "name": "#%%\n"
    }
   }
  },
  {
   "cell_type": "code",
   "execution_count": 46,
   "outputs": [
    {
     "data": {
      "text/plain": "{'name': '8D 건조 망고',\n 'type': '당절임',\n 'ingredient': ['망고', '설탕', '메타중아황산나트륨', '치자황색소'],\n 'origin': '필리핀',\n 'price': 5000}"
     },
     "execution_count": 46,
     "metadata": {},
     "output_type": "execute_result"
    }
   ],
   "source": [
    "\n",
    "dictionary[\"price\"] = 5000\n",
    "dictionary"
   ],
   "metadata": {
    "collapsed": false,
    "pycharm": {
     "name": "#%%\n"
    }
   }
  },
  {
   "cell_type": "code",
   "execution_count": 47,
   "outputs": [
    {
     "data": {
      "text/plain": "{'name': '8D 건조 파인애플',\n 'type': '당절임',\n 'ingredient': ['망고', '설탕', '메타중아황산나트륨', '치자황색소'],\n 'origin': '필리핀',\n 'price': 5000}"
     },
     "execution_count": 47,
     "metadata": {},
     "output_type": "execute_result"
    }
   ],
   "source": [
    "dictionary[\"name\"] = \"8D 건조 파인애플\"\n",
    "dictionary"
   ],
   "metadata": {
    "collapsed": false,
    "pycharm": {
     "name": "#%%\n"
    }
   }
  },
  {
   "cell_type": "code",
   "execution_count": 48,
   "outputs": [],
   "source": [
    "del dictionary[\"ingredient\"]"
   ],
   "metadata": {
    "collapsed": false,
    "pycharm": {
     "name": "#%%\n"
    }
   }
  },
  {
   "cell_type": "code",
   "execution_count": 49,
   "outputs": [
    {
     "data": {
      "text/plain": "{'name': '8D 건조 파인애플', 'type': '당절임', 'origin': '필리핀', 'price': 5000}"
     },
     "execution_count": 49,
     "metadata": {},
     "output_type": "execute_result"
    }
   ],
   "source": [
    "dictionary"
   ],
   "metadata": {
    "collapsed": false,
    "pycharm": {
     "name": "#%%\n"
    }
   }
  },
  {
   "cell_type": "code",
   "execution_count": 52,
   "outputs": [
    {
     "name": "stdout",
     "output_type": "stream",
     "text": [
      "딕셔너리 요소 출력 전:  {}\n",
      "딕셔너리 요소 출력 후:  {'name': '새로운 이름', 'head': '새로운 정신', 'body': '새로운 몸'}\n"
     ]
    }
   ],
   "source": [
    "# 딕셔너리 선언하기\n",
    "dictionary = {}\n",
    "\n",
    "# 딕셔너리 요소 추가 전 내용 출력\n",
    "print(\"딕셔너리 요소 출력 전: \", dictionary)\n",
    "\n",
    "# 딕셔너리 요소 추가\n",
    "dictionary[\"name\"] = \"새로운 이름\"\n",
    "dictionary[\"head\"] = \"새로운 정신\"\n",
    "dictionary[\"body\"] = \"새로운 몸\"\n",
    "\n",
    "# 딕셔너리 요소 추가 후 내용 출력\n",
    "print(\"딕셔너리 요소 출력 후: \", dictionary)"
   ],
   "metadata": {
    "collapsed": false,
    "pycharm": {
     "name": "#%%\n"
    }
   }
  },
  {
   "cell_type": "code",
   "execution_count": 56,
   "outputs": [
    {
     "name": "stdout",
     "output_type": "stream",
     "text": [
      "요소 제거 전 내용 출력 :  {'name': '7D 건조망고', 'type': '당절임'}\n",
      "요소 제거 후 내용 출력 :  {}\n"
     ]
    }
   ],
   "source": [
    "## 두 개의 요소를 가진 딕셔너리를 선언하고, 두 요소를 제거한 후 내용을 출력\n",
    "# 딕셔너리 선언하기\n",
    "dictionary = {\n",
    "    \"name\": \"7D 건조망고\",\n",
    "    \"type\": \"당절임\"\n",
    "}\n",
    "\n",
    "# 요소 제거 전에 내용을 출력해보기\n",
    "print(\"요소 제거 전 내용 출력 : \", dictionary)\n",
    "\n",
    "# 요소 제거\n",
    "del dictionary[\"name\"]\n",
    "del dictionary[\"type\"]\n",
    "\n",
    "# 요소 제거 후 내용 출력\n",
    "print(\"요소 제거 후 내용 출력 : \", dictionary)"
   ],
   "metadata": {
    "collapsed": false,
    "pycharm": {
     "name": "#%%\n"
    }
   }
  },
  {
   "cell_type": "code",
   "execution_count": 57,
   "outputs": [
    {
     "ename": "KeyError",
     "evalue": "'key'",
     "output_type": "error",
     "traceback": [
      "\u001B[0;31m---------------------------------------------------------------------------\u001B[0m",
      "\u001B[0;31mKeyError\u001B[0m                                  Traceback (most recent call last)",
      "\u001B[0;32m<ipython-input-57-b4fb43361e69>\u001B[0m in \u001B[0;36m<module>\u001B[0;34m\u001B[0m\n\u001B[1;32m      1\u001B[0m \u001B[0mdictionary\u001B[0m \u001B[0;34m=\u001B[0m \u001B[0;34m{\u001B[0m\u001B[0;34m}\u001B[0m\u001B[0;34m\u001B[0m\u001B[0;34m\u001B[0m\u001B[0m\n\u001B[0;32m----> 2\u001B[0;31m \u001B[0mdictionary\u001B[0m\u001B[0;34m[\u001B[0m\u001B[0;34m\"key\"\u001B[0m\u001B[0;34m]\u001B[0m\u001B[0;34m\u001B[0m\u001B[0;34m\u001B[0m\u001B[0m\n\u001B[0m",
      "\u001B[0;31mKeyError\u001B[0m: 'key'"
     ]
    }
   ],
   "source": [
    "dictionary = {}\n",
    "dictionary[\"key\"]\n",
    "\n",
    "## 리스트의 길이를 넘는 인덱스에 접근할 경우 IndexError 발생\n",
    "## 마찬가지로 딕셔너리도 존재하지 않는 키에 접근하면 KeyError 발생"
   ],
   "metadata": {
    "collapsed": false,
    "pycharm": {
     "name": "#%%\n"
    }
   }
  },
  {
   "cell_type": "code",
   "execution_count": 71,
   "outputs": [
    {
     "name": "stdout",
     "output_type": "stream",
     "text": [
      "존재하지 않는 키에 접근하고 있습니다\n"
     ]
    }
   ],
   "source": [
    "## 딕셔너리 내부에 키가 있는지 확인하기\n",
    "# 'in' 키워드\n",
    "\n",
    "# 딕셔너리 선언하기\n",
    "dictionary = {\n",
    "    \"name\" : \"7D 건조망고\",\n",
    "    \"type\" : \"당절임\",\n",
    "    \"ingredient\" : [\"망고\", \"설탕\", \"메타중아황산나트륨\", \"치자황색소\"],\n",
    "    \"origin\" : \"필리핀\"\n",
    "}\n",
    "\n",
    "# 사용자로부터 입력받기\n",
    "key = input(\"키를 입력하시오\")\n",
    "\n",
    "# in 키워드 사용하기\n",
    "if key in dictionary:\n",
    "    print(dictionary[key])\n",
    "else:\n",
    "    print(\"존재하지 않는 키에 접근하고 있습니다\")\n"
   ],
   "metadata": {
    "collapsed": false,
    "pycharm": {
     "name": "#%%\n"
    }
   }
  },
  {
   "cell_type": "code",
   "execution_count": 73,
   "outputs": [
    {
     "name": "stdout",
     "output_type": "stream",
     "text": [
      "값:  None\n",
      "존재하지 않는 키에 접근했었습니다.\n"
     ]
    }
   ],
   "source": [
    "## get 함수\n",
    "# 존재하지 않는 키에 접근하는 상황에 대한 두번째 대처방법 - 딕셔너리의 get() 함수 이용\n",
    "\n",
    "# 존재하지 않는 키에 접근해보기\n",
    "value = dictionary.get(\"존재하지 않는 키\")\n",
    "print(\"값: \", value)\n",
    "\n",
    "# None 확인하는 방법\n",
    "if value == None:\n",
    "    print(\"존재하지 않는 키에 접근했었습니다.\")"
   ],
   "metadata": {
    "collapsed": false,
    "pycharm": {
     "name": "#%%\n"
    }
   }
  },
  {
   "cell_type": "code",
   "execution_count": 76,
   "outputs": [
    {
     "name": "stdout",
     "output_type": "stream",
     "text": [
      "name : 7D 건조 망고\n",
      "type : 당절임\n",
      "ingredient : ['망고', '설탕', '메타중아황산나트륨', '치자황색소']\n",
      "origin : 필리핀\n"
     ]
    }
   ],
   "source": [
    "## for 반복문 : 딕셔너리와 함께하기\n",
    "# dictionary 선언하기\n",
    "dictionary = {\n",
    "    \"name\" : \"7D 건조 망고\",\n",
    "    \"type\" : \"당절임\",\n",
    "    \"ingredient\" : [\"망고\", \"설탕\", \"메타중아황산나트륨\", \"치자황색소\"],\n",
    "    \"origin\" : \"필리핀\"\n",
    "}\n",
    "\n",
    "for key in dictionary:\n",
    "    # 출력하기\n",
    "    print(key, \":\", dictionary[key])"
   ],
   "metadata": {
    "collapsed": false,
    "pycharm": {
     "name": "#%%\n"
    }
   }
  },
  {
   "cell_type": "code",
   "execution_count": null,
   "outputs": [],
   "source": [],
   "metadata": {
    "collapsed": false,
    "pycharm": {
     "name": "#%%\n"
    }
   }
  }
 ],
 "metadata": {
  "kernelspec": {
   "display_name": "Python 3",
   "language": "python",
   "name": "python3"
  },
  "language_info": {
   "codemirror_mode": {
    "name": "ipython",
    "version": 2
   },
   "file_extension": ".py",
   "mimetype": "text/x-python",
   "name": "python",
   "nbconvert_exporter": "python",
   "pygments_lexer": "ipython2",
   "version": "2.7.6"
  }
 },
 "nbformat": 4,
 "nbformat_minor": 0
}