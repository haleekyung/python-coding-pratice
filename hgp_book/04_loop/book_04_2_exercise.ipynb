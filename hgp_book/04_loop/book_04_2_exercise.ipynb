{
 "cells": [
  {
   "cell_type": "code",
   "execution_count": 1,
   "metadata": {
    "collapsed": true
   },
   "outputs": [],
   "source": [
    "# 딕셔너리(dictionary)는 키를 기반으로 여러 자료를 저장하는 자료형입니다.\n",
    "# 키(key)는 딕셔너리 내부에서 값에 접근할 때 사용하는 것입니다.\n",
    "# 값(value)은 딕셔너리 내부에 있는 각각의 내용을 의미합니다."
   ]
  },
  {
   "cell_type": "code",
   "execution_count": 3,
   "outputs": [
    {
     "data": {
      "text/plain": "{'name': '구름'}"
     },
     "execution_count": 3,
     "metadata": {},
     "output_type": "execute_result"
    }
   ],
   "source": [
    "# 확인문제 1. dic_a의 결과가 나오도록 빈칸 채우기\n",
    "# 1)\n",
    "dict_a = {}\n",
    "dict_a = {'name': '구름'}\n",
    "dict_a"
   ],
   "metadata": {
    "collapsed": false,
    "pycharm": {
     "name": "#%%\n"
    }
   }
  },
  {
   "cell_type": "code",
   "execution_count": 4,
   "outputs": [
    {
     "data": {
      "text/plain": "{}"
     },
     "execution_count": 4,
     "metadata": {},
     "output_type": "execute_result"
    }
   ],
   "source": [
    "# 2)\n",
    "dict_a\n",
    "del dict_a[\"name\"]\n",
    "\n",
    "dict_a"
   ],
   "metadata": {
    "collapsed": false,
    "pycharm": {
     "name": "#%%\n"
    }
   }
  },
  {
   "cell_type": "code",
   "execution_count": 82,
   "outputs": [
    {
     "name": "stdout",
     "output_type": "stream",
     "text": [
      "우리 동네 애완 동물들\n",
      "구름 5살\n",
      "초코 3살\n",
      "아지 1살\n",
      "호랑이 1살\n"
     ]
    }
   ],
   "source": [
    "# 확인문제 2. 반복문과 print() 함수 조합하기\n",
    "pets = [\n",
    "    {\"name\" : \"구름\" , \"age\" : \"5\"},\n",
    "    {\"name\" : \"초코\" , \"age\" : \"3\"},\n",
    "    {\"name\" : \"아지\" , \"age\" : \"1\"},\n",
    "    {\"name\" : \"호랑이\" , \"age\" : \"1\"},\n",
    "]\n",
    "\n",
    "print(\"우리 동네 애완 동물들\")\n",
    "\n",
    "for key in pets:\n",
    "    name = key[\"name\"]\n",
    "    age = key[\"age\"]\n",
    "    print(name, age.rstrip() + \"살\")"
   ],
   "metadata": {
    "collapsed": false,
    "pycharm": {
     "name": "#%%\n"
    }
   }
  },
  {
   "cell_type": "code",
   "execution_count": 213,
   "outputs": [
    {
     "name": "stdout",
     "output_type": "stream",
     "text": [
      "{1: 0, 2: 0, 3: 0, 4: 0, 5: 0, 6: 0, 7: 0, 8: 0, 9: 0}\n"
     ]
    }
   ],
   "source": [
    "# 확인문제 3. 빈칸을 채워 numbers 내부에 있는 숫자가 몇 번 등장하는지 출력\n",
    "# 숫자는 무작위로 입력해도 상관없다\n",
    "\n",
    "numbers = [1, 2, 6, 8, 4, 3, 2, 1, 9, 5, 4, 9, 7, 2, 1, 3, 5, 4, 8, 9, 7, 2 ,3]\n",
    "counter = {}\n",
    "\n",
    "for i in range(1,10):\n",
    "    counter[i] = 0\n",
    "\n",
    "print(counter)"
   ],
   "metadata": {
    "collapsed": false,
    "pycharm": {
     "name": "#%%\n"
    }
   }
  },
  {
   "cell_type": "code",
   "execution_count": 217,
   "outputs": [
    {
     "name": "stdout",
     "output_type": "stream",
     "text": [
      "{1: 3, 2: 4, 3: 3, 4: 3, 5: 2, 6: 1, 7: 2, 8: 2, 9: 3}\n"
     ]
    }
   ],
   "source": [
    "for number in numbers:\n",
    "        counter[number] = counter[number] + 1\n",
    "print(counter)"
   ],
   "metadata": {
    "collapsed": false,
    "pycharm": {
     "name": "#%%\n"
    }
   }
  },
  {
   "cell_type": "code",
   "execution_count": 289,
   "outputs": [
    {
     "data": {
      "text/plain": "True"
     },
     "execution_count": 289,
     "metadata": {},
     "output_type": "execute_result"
    }
   ],
   "source": [
    "# 확인문제 4. 빈칸을 채워 실행결과와 같이 출력되게 만들어보기\n",
    "\n",
    "type(\"문자열\") is str # 문자열인지 확인\n",
    "type([]) is list # 리스트인지 확인\n",
    "type({}) is dict # 딕셔너리인지 확인"
   ],
   "metadata": {
    "collapsed": false,
    "pycharm": {
     "name": "#%%\n"
    }
   }
  },
  {
   "cell_type": "code",
   "execution_count": 273,
   "outputs": [
    {
     "name": "stdout",
     "output_type": "stream",
     "text": [
      "기사\n",
      "12\n",
      "불꽃의 검\n",
      "풀플레이트\n",
      "{'sword': '불꽃의 검', 'armor': '풀플레이트'}\n",
      "['베기', '세게 베기', '아주 세게 베기']\n"
     ]
    }
   ],
   "source": [
    "# 딕셔너리를 선언합니다.\n",
    "character = {\n",
    "    \"name\" : \"기사\",\n",
    "    \"level\" : 12,\n",
    "    \"items\" : {\n",
    "        \"sword\" : \"불꽃의 검\",\n",
    "        \"armor\" : \"풀플레이트\"\n",
    "        },\n",
    "    \"skill\" : [\"베기\", \"세게 베기\", \"아주 세게 베기\"]\n",
    "}\n",
    "\n",
    "print(character[\"name\"])\n",
    "print(character[\"level\"])\n",
    "print(character[\"items\"][\"sword\"])\n",
    "print(character[\"items\"][\"armor\"])\n",
    "print(character[\"items\"])\n",
    "print(character[\"skill\"][0:3])\n"
   ],
   "metadata": {
    "collapsed": false,
    "pycharm": {
     "name": "#%%\n"
    }
   }
  },
  {
   "cell_type": "code",
   "execution_count": 322,
   "outputs": [
    {
     "name": "stdout",
     "output_type": "stream",
     "text": [
      "name : 기사\n",
      "level : 12\n",
      "sword : 불꽃의 검\n",
      "armor : 풀플레이트\n",
      "skill : 베기\n",
      "skill : 세게 베기\n",
      "skill : 아주 세게 베기\n"
     ]
    }
   ],
   "source": [
    "# for 반복문을 사용합니다.\n",
    "for key in character:\n",
    "    if type(character[key]) is dict:\n",
    "        for i in character[key]:\n",
    "            print(i, \":\", character[key][i])\n",
    "    elif type(character[key]) is list:\n",
    "        for i in character[key]:\n",
    "            print(key, \":\", i)\n",
    "    else:\n",
    "        print(key, \":\", character[key])"
   ],
   "metadata": {
    "collapsed": false,
    "pycharm": {
     "name": "#%%\n"
    }
   }
  },
  {
   "cell_type": "code",
   "execution_count": null,
   "outputs": [],
   "source": [],
   "metadata": {
    "collapsed": false,
    "pycharm": {
     "name": "#%%\n"
    }
   }
  }
 ],
 "metadata": {
  "kernelspec": {
   "display_name": "Python 3",
   "language": "python",
   "name": "python3"
  },
  "language_info": {
   "codemirror_mode": {
    "name": "ipython",
    "version": 2
   },
   "file_extension": ".py",
   "mimetype": "text/x-python",
   "name": "python",
   "nbconvert_exporter": "python",
   "pygments_lexer": "ipython2",
   "version": "2.7.6"
  }
 },
 "nbformat": 4,
 "nbformat_minor": 0
}