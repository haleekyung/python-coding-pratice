{
 "cells": [
  {
   "cell_type": "code",
   "execution_count": 2,
   "metadata": {
    "collapsed": true
   },
   "outputs": [
    {
     "name": "stdout",
     "output_type": "stream",
     "text": [
      "홀수입니다.\n"
     ]
    }
   ],
   "source": [
    "# else 들어가는 조건문\n",
    "## if 조건문에 else 추가해서 홀수 짝수 확인하기\n",
    "number = input(\"정수입력\")\n",
    "number = int(number)\n",
    "\n",
    "## 조건문 사용하기\n",
    "if number % 2 == 0:\n",
    "    print(\"짝수입니다.\")\n",
    "else:\n",
    "    print(\"홀수입니다.\")"
   ]
  },
  {
   "cell_type": "code",
   "execution_count": 9,
   "outputs": [
    {
     "name": "stdout",
     "output_type": "stream",
     "text": [
      "여름입니다.\n"
     ]
    }
   ],
   "source": [
    "# elif 구문을 이용하기\n",
    "## 날짜 불러오기\n",
    "import datetime\n",
    "\n",
    "## 현재 날짜/시간 구하고 쉽게 사용할 수 있게 월을 변수에 저장하기\n",
    "time = datetime.datetime.now()\n",
    "month = time.month\n",
    "\n",
    "## 조건문으로 계절 확인하기\n",
    "if 3 <= month <= 5:\n",
    "    print(\"봄입니다.\")\n",
    "elif 6 <= month <= 9:\n",
    "    print(\"여름입니다.\")\n",
    "elif 10 <= month <= 11:\n",
    "    print(\"가을입니다.\")\n",
    "else:\n",
    "    print(\"겨울입니다.\")"
   ],
   "metadata": {
    "collapsed": false,
    "pycharm": {
     "name": "#%%\n"
    }
   }
  },
  {
   "cell_type": "code",
   "execution_count": 11,
   "outputs": [
    {
     "name": "stdout",
     "output_type": "stream",
     "text": [
      "시대를 앞서나가는 혁명의 씨앗\n"
     ]
    }
   ],
   "source": [
    "# 유머 활용해서 조건문 만들기 1\n",
    "score = float(input(\"학점을 입력하세요.\"))\n",
    "\n",
    "if score == 4.5:\n",
    "    print(\"당신은 '신'입니다.\")\n",
    "elif 4.2 <= score < 4.5:\n",
    "    print(\"당신은 '교수님의 사랑'입니다.\")\n",
    "elif 3.5 <= score < 4.2:\n",
    "    print(\"당신은 '현 체제의 수호자'입니다.\")\n",
    "elif 2.8 <= score < 3.2:\n",
    "    print(\"당신은 '일반인'입니다.\")\n",
    "elif 2.3 <= score < 2.8:\n",
    "    print(\"당신은 '일탈을 꿈꾸는 소시민'입니다.\")\n",
    "elif 1.75 <= score < 2.3:\n",
    "    print(\"당신은 '오락문화의 선구자'입니다.\")\n",
    "elif 1.0 <= score < 1.75:\n",
    "    print(\"당신은 '불가촉천민'입니다.\")\n",
    "elif 0.5 <= score < 1.0:\n",
    "    print(\"당신은 '자벌레'입니다.\")\n",
    "else:\n",
    "    print(\"시대를 앞서나가는 혁명의 씨앗\")"
   ],
   "metadata": {
    "collapsed": false,
    "pycharm": {
     "name": "#%%\n"
    }
   }
  },
  {
   "cell_type": "code",
   "execution_count": 12,
   "outputs": [
    {
     "name": "stdout",
     "output_type": "stream",
     "text": [
      "당신은 '교수님의 사랑'입니다.\n"
     ]
    }
   ],
   "source": [
    "# 유머 활용해서 조건문 만들기 2\n",
    "score = float(input(\"학점을 입력하세요.\"))\n",
    "\n",
    "if score == 4.5:\n",
    "    print(\"당신은 '신'입니다.\")\n",
    "elif 4.2 <= score:\n",
    "    print(\"당신은 '교수님의 사랑'입니다.\")\n",
    "elif 3.5 <= score:\n",
    "    print(\"당신은 '현 체제의 수호자'입니다.\")\n",
    "elif 2.8 <= score:\n",
    "    print(\"당신은 '일반인'입니다.\")\n",
    "elif 2.3 <= score:\n",
    "    print(\"당신은 '일탈을 꿈꾸는 소시민'입니다.\")\n",
    "elif 1.75 <= score:\n",
    "    print(\"당신은 '오락문화의 선구자'입니다.\")\n",
    "elif 1.0 <= score:\n",
    "    print(\"당신은 '불가촉천민'입니다.\")\n",
    "elif 0.5 <= score:\n",
    "    print(\"당신은 '자벌레'입니다.\")\n",
    "else:\n",
    "    print(\"시대를 앞서나가는 혁명의 씨앗\")"
   ],
   "metadata": {
    "collapsed": false,
    "pycharm": {
     "name": "#%%\n"
    }
   }
  },
  {
   "cell_type": "code",
   "execution_count": 14,
   "outputs": [
    {
     "name": "stdout",
     "output_type": "stream",
     "text": [
      "# if 조건문에 0넣기\n",
      "0은 False로 변환됩니다\n",
      "\n",
      "# if 조건문에 빈 문자열 넣기\n",
      "빈 문자열은 False로 변환됩니다.\n"
     ]
    }
   ],
   "source": [
    "## False로 변환되는 값\n",
    "print(\"# if 조건문에 0넣기\")\n",
    "if 0:\n",
    "    print(\"0은 True로 변환됩니다\")\n",
    "else:\n",
    "    print(\"0은 False로 변환됩니다\")\n",
    "print()\n",
    "\n",
    "print(\"# if 조건문에 빈 문자열 넣기\")\n",
    "if \"\":\n",
    "    print(\"빈 문자열은 True로 변환됩니다.\")\n",
    "else:\n",
    "    print(\"빈 문자열은 False로 변환됩니다.\")"
   ],
   "metadata": {
    "collapsed": false,
    "pycharm": {
     "name": "#%%\n"
    }
   }
  },
  {
   "cell_type": "code",
   "execution_count": 3,
   "outputs": [],
   "source": [
    "## 나중에 구현하려고 비워 둔 구문\n",
    "## 입력을 받습니다\n",
    "number = input(\"정수입력\")\n",
    "number = int(number)\n",
    "\n",
    "## 조건문 사용\n",
    "if number == 0:\n",
    "    0 # 양수일 떄 : 아직 미구현 상태입니다.\n",
    "else:\n",
    "    0 # 음수일 때 : 아직 미구현 상태입니다."
   ],
   "metadata": {
    "collapsed": false,
    "pycharm": {
     "name": "#%%\n"
    }
   }
  },
  {
   "cell_type": "code",
   "execution_count": 4,
   "outputs": [],
   "source": [
    "## pass 키워드를 통한 미구현 상태 입력\n",
    "if number > 0:\n",
    "    pass\n",
    "else:\n",
    "    pass"
   ],
   "metadata": {
    "collapsed": false,
    "pycharm": {
     "name": "#%%\n"
    }
   }
  },
  {
   "cell_type": "code",
   "execution_count": 5,
   "outputs": [
    {
     "ename": "NotImplementedError",
     "evalue": "",
     "output_type": "error",
     "traceback": [
      "\u001B[0;31m---------------------------------------------------------------------------\u001B[0m",
      "\u001B[0;31mNotImplementedError\u001B[0m                       Traceback (most recent call last)",
      "\u001B[0;32m<ipython-input-5-8730afefb3ff>\u001B[0m in \u001B[0;36m<module>\u001B[0;34m\u001B[0m\n\u001B[1;32m      1\u001B[0m \u001B[0;31m## 미구현 상태 에러 표시하기\u001B[0m\u001B[0;34m\u001B[0m\u001B[0;34m\u001B[0m\u001B[0;34m\u001B[0m\u001B[0m\n\u001B[1;32m      2\u001B[0m \u001B[0;32mif\u001B[0m \u001B[0mnumber\u001B[0m \u001B[0;34m>\u001B[0m \u001B[0;36m0\u001B[0m\u001B[0;34m:\u001B[0m\u001B[0;34m\u001B[0m\u001B[0;34m\u001B[0m\u001B[0m\n\u001B[0;32m----> 3\u001B[0;31m     \u001B[0;32mraise\u001B[0m \u001B[0mNotImplementedError\u001B[0m\u001B[0;34m\u001B[0m\u001B[0;34m\u001B[0m\u001B[0m\n\u001B[0m\u001B[1;32m      4\u001B[0m \u001B[0;32melse\u001B[0m\u001B[0;34m:\u001B[0m\u001B[0;34m\u001B[0m\u001B[0;34m\u001B[0m\u001B[0m\n\u001B[1;32m      5\u001B[0m     \u001B[0;32mraise\u001B[0m \u001B[0mNotImplementedError\u001B[0m\u001B[0;34m\u001B[0m\u001B[0;34m\u001B[0m\u001B[0m\n",
      "\u001B[0;31mNotImplementedError\u001B[0m: "
     ]
    }
   ],
   "source": [
    "## 미구현 상태 에러 표시하기\n",
    "if number > 0:\n",
    "    raise NotImplementedError\n",
    "else:\n",
    "    raise NotImplementedError"
   ],
   "metadata": {
    "collapsed": false,
    "pycharm": {
     "name": "#%%\n"
    }
   }
  },
  {
   "cell_type": "code",
   "execution_count": null,
   "outputs": [],
   "source": [],
   "metadata": {
    "collapsed": false,
    "pycharm": {
     "name": "#%%\n"
    }
   }
  }
 ],
 "metadata": {
  "kernelspec": {
   "display_name": "Python 3",
   "language": "python",
   "name": "python3"
  },
  "language_info": {
   "codemirror_mode": {
    "name": "ipython",
    "version": 2
   },
   "file_extension": ".py",
   "mimetype": "text/x-python",
   "name": "python",
   "nbconvert_exporter": "python",
   "pygments_lexer": "ipython2",
   "version": "2.7.6"
  }
 },
 "nbformat": 4,
 "nbformat_minor": 0
}