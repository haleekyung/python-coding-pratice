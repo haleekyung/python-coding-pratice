{
 "cells": [
  {
   "cell_type": "code",
   "execution_count": 1,
   "metadata": {
    "collapsed": true
   },
   "outputs": [
    {
     "name": "stdout",
     "output_type": "stream",
     "text": [
      "False\n"
     ]
    }
   ],
   "source": [
    "# Boolean 만들기: 비교 연산자\n",
    "print(10 == 100)\n"
   ]
  },
  {
   "cell_type": "code",
   "execution_count": 2,
   "outputs": [
    {
     "name": "stdout",
     "output_type": "stream",
     "text": [
      "True\n"
     ]
    }
   ],
   "source": [
    "print(10 != 100)"
   ],
   "metadata": {
    "collapsed": false,
    "pycharm": {
     "name": "#%%\n"
    }
   }
  },
  {
   "cell_type": "code",
   "execution_count": 3,
   "outputs": [
    {
     "name": "stdout",
     "output_type": "stream",
     "text": [
      "True\n"
     ]
    }
   ],
   "source": [
    "print(10 < 100)"
   ],
   "metadata": {
    "collapsed": false,
    "pycharm": {
     "name": "#%%\n"
    }
   }
  },
  {
   "cell_type": "code",
   "execution_count": 4,
   "outputs": [
    {
     "name": "stdout",
     "output_type": "stream",
     "text": [
      "False\n"
     ]
    }
   ],
   "source": [
    "print(10 > 100)"
   ],
   "metadata": {
    "collapsed": false,
    "pycharm": {
     "name": "#%%\n"
    }
   }
  },
  {
   "cell_type": "code",
   "execution_count": 5,
   "outputs": [
    {
     "name": "stdout",
     "output_type": "stream",
     "text": [
      "True\n"
     ]
    }
   ],
   "source": [
    "print(10 <= 100)"
   ],
   "metadata": {
    "collapsed": false,
    "pycharm": {
     "name": "#%%\n"
    }
   }
  },
  {
   "cell_type": "code",
   "execution_count": 6,
   "outputs": [
    {
     "name": "stdout",
     "output_type": "stream",
     "text": [
      "False\n"
     ]
    }
   ],
   "source": [
    "print(10 >= 100)"
   ],
   "metadata": {
    "collapsed": false,
    "pycharm": {
     "name": "#%%\n"
    }
   }
  },
  {
   "cell_type": "code",
   "execution_count": 7,
   "outputs": [
    {
     "name": "stdout",
     "output_type": "stream",
     "text": [
      "True\n"
     ]
    }
   ],
   "source": [
    "print(\"가방\" == \"가방\")"
   ],
   "metadata": {
    "collapsed": false,
    "pycharm": {
     "name": "#%%\n"
    }
   }
  },
  {
   "cell_type": "code",
   "execution_count": 8,
   "outputs": [
    {
     "name": "stdout",
     "output_type": "stream",
     "text": [
      "True\n"
     ]
    }
   ],
   "source": [
    "print(\"가방\" != \"하마\")"
   ],
   "metadata": {
    "collapsed": false,
    "pycharm": {
     "name": "#%%\n"
    }
   }
  },
  {
   "cell_type": "code",
   "execution_count": 10,
   "outputs": [
    {
     "name": "stdout",
     "output_type": "stream",
     "text": [
      "True\n"
     ]
    }
   ],
   "source": [
    "print(\"가방\" < \"하마\")"
   ],
   "metadata": {
    "collapsed": false,
    "pycharm": {
     "name": "#%%\n"
    }
   }
  },
  {
   "cell_type": "code",
   "execution_count": 11,
   "outputs": [
    {
     "name": "stdout",
     "output_type": "stream",
     "text": [
      "True\n"
     ]
    }
   ],
   "source": [
    "x = 25\n",
    "print(10 < x < 30)"
   ],
   "metadata": {
    "collapsed": false,
    "pycharm": {
     "name": "#%%\n"
    }
   }
  },
  {
   "cell_type": "code",
   "execution_count": 12,
   "outputs": [
    {
     "name": "stdout",
     "output_type": "stream",
     "text": [
      "False\n"
     ]
    }
   ],
   "source": [
    "x = 30\n",
    "print(40 < x < 60)"
   ],
   "metadata": {
    "collapsed": false,
    "pycharm": {
     "name": "#%%\n"
    }
   }
  },
  {
   "cell_type": "code",
   "execution_count": 13,
   "outputs": [
    {
     "name": "stdout",
     "output_type": "stream",
     "text": [
      "False\n"
     ]
    }
   ],
   "source": [
    "print(not True)"
   ],
   "metadata": {
    "collapsed": false,
    "pycharm": {
     "name": "#%%\n"
    }
   }
  },
  {
   "cell_type": "code",
   "execution_count": 14,
   "outputs": [
    {
     "name": "stdout",
     "output_type": "stream",
     "text": [
      "True\n"
     ]
    }
   ],
   "source": [
    "print(not False)"
   ],
   "metadata": {
    "collapsed": false,
    "pycharm": {
     "name": "#%%\n"
    }
   }
  },
  {
   "cell_type": "code",
   "execution_count": 15,
   "outputs": [
    {
     "name": "stdout",
     "output_type": "stream",
     "text": [
      "under_20:  True\n",
      "not under_20:  False\n"
     ]
    }
   ],
   "source": [
    "x = 10\n",
    "under_20 = x < 20\n",
    "print(\"under_20: \", under_20)\n",
    "print(\"not under_20: \", not under_20)"
   ],
   "metadata": {
    "collapsed": false,
    "pycharm": {
     "name": "#%%\n"
    }
   }
  },
  {
   "cell_type": "code",
   "execution_count": 16,
   "outputs": [
    {
     "name": "stdout",
     "output_type": "stream",
     "text": [
      "False\n"
     ]
    }
   ],
   "source": [
    "# and 연산자와 or 연산자\n",
    "print(True and False)"
   ],
   "metadata": {
    "collapsed": false,
    "pycharm": {
     "name": "#%%\n"
    }
   }
  },
  {
   "cell_type": "code",
   "execution_count": 17,
   "outputs": [
    {
     "name": "stdout",
     "output_type": "stream",
     "text": [
      "True\n"
     ]
    }
   ],
   "source": [
    "print(True or False)"
   ],
   "metadata": {
    "collapsed": false,
    "pycharm": {
     "name": "#%%\n"
    }
   }
  },
  {
   "cell_type": "code",
   "execution_count": 2,
   "outputs": [
    {
     "name": "stdout",
     "output_type": "stream",
     "text": [
      "True입니다..!\n",
      "정말 True입니다..!\n"
     ]
    }
   ],
   "source": [
    "if True:\n",
    "    print(\"True입니다..!\")\n",
    "    print(\"정말 True입니다..!\")"
   ],
   "metadata": {
    "collapsed": false,
    "pycharm": {
     "name": "#%%\n"
    }
   }
  },
  {
   "cell_type": "code",
   "execution_count": 3,
   "outputs": [],
   "source": [
    "if False:\n",
    "    print(\"False입니다..!\")"
   ],
   "metadata": {
    "collapsed": false,
    "pycharm": {
     "name": "#%%\n"
    }
   }
  },
  {
   "cell_type": "code",
   "execution_count": 8,
   "outputs": [
    {
     "name": "stdout",
     "output_type": "stream",
     "text": [
      "음수입니다.\n"
     ]
    }
   ],
   "source": [
    "number = int(input(\"숫자를 입력하세요!: \"))\n",
    "\n",
    "if number > 0:\n",
    "    print(\"양수입니다.\")\n",
    "\n",
    "if number < 0:\n",
    "    print(\"음수입니다.\")\n",
    "\n",
    "if number == 0:\n",
    "    print(\"0입니다.\")"
   ],
   "metadata": {
    "collapsed": false,
    "pycharm": {
     "name": "#%%\n"
    }
   }
  },
  {
   "cell_type": "code",
   "execution_count": 13,
   "outputs": [
    {
     "name": "stdout",
     "output_type": "stream",
     "text": [
      "2021-06-23 23:31:35.357088\n",
      "2021 년\n",
      "6 달\n",
      "23 시간\n"
     ]
    }
   ],
   "source": [
    "# 날짜/시간 확인하기\n",
    "## 날짜/시간과 관련된 기능 불러오기\n",
    "import datetime\n",
    "\n",
    "## 현재 날짜/시간을 구함\n",
    "now = datetime.datetime.now()\n",
    "\n",
    "## 출력합니다.\n",
    "print(now)\n",
    "print(now.year, \"년\")\n",
    "print(now.month, \"달\")\n",
    "print(now.hour, \"시간\")"
   ],
   "metadata": {
    "collapsed": false,
    "pycharm": {
     "name": "#%%\n"
    }
   }
  },
  {
   "cell_type": "code",
   "execution_count": 19,
   "outputs": [
    {
     "data": {
      "text/plain": "datetime.datetime(2021, 6, 23, 14, 43, 46, 246805)"
     },
     "execution_count": 19,
     "metadata": {},
     "output_type": "execute_result"
    }
   ],
   "source": [
    "# 날짜/시간과 관련된 기능을 가져옵니다.\n",
    "import datetime\n",
    "\n",
    "# 현재 날짜/시간을 구합니다.\n",
    "now = datetime.datetime.utcnow()\n",
    "now"
   ],
   "metadata": {
    "collapsed": false,
    "pycharm": {
     "name": "#%%\n"
    }
   }
  },
  {
   "cell_type": "code",
   "execution_count": 18,
   "outputs": [
    {
     "name": "stdout",
     "output_type": "stream",
     "text": [
      "2021년 6월 23일 23시 41분 9초\n"
     ]
    }
   ],
   "source": [
    "# 출력합니다.\n",
    "print(\"{}년 {}월 {}일 {}시 {}분 {}초\".format(\n",
    "    now.year,\n",
    "    now.month,\n",
    "    now.day,\n",
    "    now.hour,\n",
    "    now.minute,\n",
    "    now.second\n",
    "))"
   ],
   "metadata": {
    "collapsed": false,
    "pycharm": {
     "name": "#%%\n"
    }
   }
  },
  {
   "cell_type": "code",
   "execution_count": 21,
   "outputs": [
    {
     "name": "stdout",
     "output_type": "stream",
     "text": [
      "현재 시각은 23시로 오후입니다!\n"
     ]
    }
   ],
   "source": [
    "# 날짜/시간과 관련된 기능을 가져옵니다.\n",
    "import datetime\n",
    "\n",
    "# 현재 날짜/시간을 구합니다.\n",
    "now = datetime.datetime.now()\n",
    "\n",
    "# 오전 구분\n",
    "if now.hour < 12:\n",
    "    print(\"현재 시간은 {}시로 오전입니다!\". format(now.hour))\n",
    "\n",
    "# 오후 구분\n",
    "if now.hour >= 12:\n",
    "    print(\"현재 시각은 {}시로 오후입니다!\". format(now.hour))"
   ],
   "metadata": {
    "collapsed": false,
    "pycharm": {
     "name": "#%%\n"
    }
   }
  },
  {
   "cell_type": "code",
   "execution_count": 24,
   "outputs": [
    {
     "data": {
      "text/plain": "datetime.datetime(2021, 6, 23, 23, 55, 47, 196655)"
     },
     "execution_count": 24,
     "metadata": {},
     "output_type": "execute_result"
    }
   ],
   "source": [
    "# 게절을 구분하는 프로그램\n",
    "\n",
    "## 날짜/시간과 관련된 기능을 가져옵니다\n",
    "import datetime\n",
    "\n",
    "## 현재 날짜/시간을 구합니다.\n",
    "now = datetime.datetime.now()\n",
    "now"
   ],
   "metadata": {
    "collapsed": false,
    "pycharm": {
     "name": "#%%\n"
    }
   }
  },
  {
   "cell_type": "code",
   "execution_count": 29,
   "outputs": [
    {
     "name": "stdout",
     "output_type": "stream",
     "text": [
      "이번달은 6월로, 여름입니다.\n"
     ]
    }
   ],
   "source": [
    "# 봄 구분\n",
    "if 3 <= now.month <=5:\n",
    "    print(\"이번달은 {}월로, 봄입니다.\", format(now.month))\n",
    "\n",
    "# 여름 구분\n",
    "if 6 <= now.month <= 8:\n",
    "    print(\"이번달은 {}월로, 여름입니다.\". format(now.month))\n",
    "\n",
    "# 가을 구분\n",
    "if 9 <= now.month <= 11:\n",
    "    print(\"이번달은 {}월로, 가을입니다.\". format(now.month))\n",
    "\n",
    "# 겨울 구분\n",
    "if 1 <= now.month <=2 or now.month == 12:\n",
    "    print(\"이번달은 {}월로, 겨울입니다.\". format(now.month))"
   ],
   "metadata": {
    "collapsed": false,
    "pycharm": {
     "name": "#%%\n"
    }
   }
  },
  {
   "cell_type": "code",
   "execution_count": 37,
   "outputs": [
    {
     "name": "stdout",
     "output_type": "stream",
     "text": [
      "홀수입니다\n"
     ]
    }
   ],
   "source": [
    "# 끝자리로 짝수와 홀수 구분\n",
    "\n",
    "## 입력 받기\n",
    "num = input(\"정수를 입력하세요\")\n",
    "\n",
    "## 마지막 자리 숫자를 추출\n",
    "last_character = num[-1]\n",
    "\n",
    "## 숫자로 변환하기\n",
    "last_number = int(last_character)\n",
    "\n",
    "## 짝수 확인\n",
    "if last_number == 0 \\\n",
    "    or last_number == 2 \\\n",
    "    or last_number == 4 \\\n",
    "    or last_number == 6 \\\n",
    "    or last_number == 8:\n",
    "    print(\"짝수입니다\")\n",
    "\n",
    "else:\n",
    "    print(\"홀수입니다\")"
   ],
   "metadata": {
    "collapsed": false,
    "pycharm": {
     "name": "#%%\n"
    }
   }
  },
  {
   "cell_type": "code",
   "execution_count": 40,
   "outputs": [
    {
     "name": "stdout",
     "output_type": "stream",
     "text": [
      "홀수입니다\n"
     ]
    }
   ],
   "source": [
    "## 짝수 확인\n",
    "if last_character in \"02468\":\n",
    "    print(\"짝수입니다\")\n",
    "\n",
    "else:\n",
    "    print(\"홀수입니다\")"
   ],
   "metadata": {
    "collapsed": false,
    "pycharm": {
     "name": "#%%\n"
    }
   }
  },
  {
   "cell_type": "code",
   "execution_count": 41,
   "outputs": [
    {
     "name": "stdout",
     "output_type": "stream",
     "text": [
      "짝수입니다\n"
     ]
    }
   ],
   "source": [
    "## 나머지 연산자를 활용해서 짝수와 홀수 구분하기\n",
    "# 입력 받기\n",
    "number = input(\"정수 입력\")\n",
    "number = int(number)\n",
    "\n",
    "# 짝수 조건\n",
    "if number % 2 == 0:\n",
    "    print(\"짝수입니다\")\n",
    "\n",
    "# 홀수 조건\n",
    "if number % 2 == 1:\n",
    "    print(\"홀수입니다\")"
   ],
   "metadata": {
    "collapsed": false,
    "pycharm": {
     "name": "#%%\n"
    }
   }
  }
 ],
 "metadata": {
  "kernelspec": {
   "display_name": "Python 3",
   "language": "python",
   "name": "python3"
  },
  "language_info": {
   "codemirror_mode": {
    "name": "ipython",
    "version": 2
   },
   "file_extension": ".py",
   "mimetype": "text/x-python",
   "name": "python",
   "nbconvert_exporter": "python",
   "pygments_lexer": "ipython2",
   "version": "2.7.6"
  }
 },
 "nbformat": 4,
 "nbformat_minor": 0
}