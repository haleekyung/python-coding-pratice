{
 "cells": [
  {
   "cell_type": "code",
   "execution_count": 3,
   "metadata": {
    "collapsed": true,
    "pycharm": {
     "name": "#%%\n"
    }
   },
   "outputs": [],
   "source": [
    "# 확인문제 1. 오류가 나는 경우 고르기\n",
    "# 3) \"{} {} {}\".format(62, type(52)) -> 갯수가 안맞음"
   ]
  },
  {
   "cell_type": "code",
   "execution_count": 4,
   "outputs": [],
   "source": [
    "# 확인문제 2. 함수와 기능 연결하기\n",
    "# 1) split() : 문자열을 특정 문자로 자릅니다\n",
    "# 2) upper() : 문자열을 대문자로 변환합니다\n",
    "# 3) lower() : 문자열을 소문자로 변환합니다\n",
    "# 4) strip() : 문자열 양옆의 공백을 제거합니다\n"
   ],
   "metadata": {
    "collapsed": false,
    "pycharm": {
     "name": "#%%\n"
    }
   }
  },
  {
   "cell_type": "code",
   "execution_count": 19,
   "outputs": [
    {
     "name": "stdout",
     "output_type": "stream",
     "text": [
      "\n",
      "100 + 200 = 300\n"
     ]
    }
   ],
   "source": [
    "# 확인문제 3. 코드 빈칸 채워 실행결과 출력하기\n",
    "a = input(\"> 1번째 숫자: \")\n",
    "b = input(\"> 2번째 숫자: \")\n",
    "print()\n",
    "\n",
    "print(\"{} + {} = {}\".format(a, b, int(a) + int(b)))"
   ],
   "metadata": {
    "collapsed": false,
    "pycharm": {
     "name": "#%%\n"
    }
   }
  },
  {
   "cell_type": "code",
   "execution_count": 13,
   "outputs": [
    {
     "name": "stdout",
     "output_type": "stream",
     "text": [
      "A 지점:  hello\n",
      "B 지점:  HELLO\n"
     ]
    }
   ],
   "source": [
    "# 확인문제 4. 실행결과 예측하기\n",
    "string = \"hello\"\n",
    "\n",
    "#string.upper() 실행하고, string 출력하기\n",
    "string.upper()\n",
    "print(\"A 지점: \", string)\n",
    "\n",
    "#string.upper() 실행하기\n",
    "print(\"B 지점: \", string.upper())\n",
    "\n",
    "## 예상 실행 결과: string.upper을 실행하면 HELLO가 뜬다. 그 이후 string을 실행하면 hello가 뜬다."
   ],
   "metadata": {
    "collapsed": false,
    "pycharm": {
     "name": "#%%\n"
    }
   }
  },
  {
   "cell_type": "code",
   "execution_count": null,
   "outputs": [],
   "source": [],
   "metadata": {
    "collapsed": false,
    "pycharm": {
     "name": "#%%\n"
    }
   }
  }
 ],
 "metadata": {
  "kernelspec": {
   "display_name": "Python 3",
   "language": "python",
   "name": "python3"
  },
  "language_info": {
   "codemirror_mode": {
    "name": "ipython",
    "version": 2
   },
   "file_extension": ".py",
   "mimetype": "text/x-python",
   "name": "python",
   "nbconvert_exporter": "python",
   "pygments_lexer": "ipython2",
   "version": "2.7.6"
  }
 },
 "nbformat": 4,
 "nbformat_minor": 0
}