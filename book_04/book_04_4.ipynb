{
 "cells": [
  {
   "cell_type": "code",
   "execution_count": 2,
   "metadata": {
    "collapsed": true
   },
   "outputs": [],
   "source": [
    "## 리스트에 적용할 수 있는 기본 함수\n",
    "# min()\n",
    "# max()\n",
    "# sum()"
   ]
  },
  {
   "cell_type": "code",
   "execution_count": 1,
   "outputs": [
    {
     "data": {
      "text/plain": "32"
     },
     "execution_count": 1,
     "metadata": {},
     "output_type": "execute_result"
    }
   ],
   "source": [
    "#\n",
    "numbers = [103, 52, 273, 32, 77]\n",
    "min(numbers)"
   ],
   "metadata": {
    "collapsed": false,
    "pycharm": {
     "name": "#%%\n"
    }
   }
  },
  {
   "cell_type": "code",
   "execution_count": 2,
   "outputs": [
    {
     "data": {
      "text/plain": "273"
     },
     "execution_count": 2,
     "metadata": {},
     "output_type": "execute_result"
    }
   ],
   "source": [
    "max(numbers)"
   ],
   "metadata": {
    "collapsed": false,
    "pycharm": {
     "name": "#%%\n"
    }
   }
  },
  {
   "cell_type": "code",
   "execution_count": 3,
   "outputs": [
    {
     "data": {
      "text/plain": "537"
     },
     "execution_count": 3,
     "metadata": {},
     "output_type": "execute_result"
    }
   ],
   "source": [
    "sum(numbers)"
   ],
   "metadata": {
    "collapsed": false,
    "pycharm": {
     "name": "#%%\n"
    }
   }
  },
  {
   "cell_type": "code",
   "execution_count": 5,
   "outputs": [],
   "source": [
    "## reversed()함수로 리스트 뒤집기\n",
    "# 리스트에서 요소를 뒤집고 싶을 때에는 reversed()함수를 사용한다.\n",
    "# reversed() 함수의 매개변수에 리스트를 넣으면 리스트를 뒤집을 수 있다."
   ],
   "metadata": {
    "collapsed": false,
    "pycharm": {
     "name": "#%%\n"
    }
   }
  },
  {
   "cell_type": "code",
   "execution_count": 6,
   "outputs": [],
   "source": [
    "# 리스트를 선언하고 뒤집기\n",
    "list_a = [1, 2, 3, 4, 5]\n",
    "list_reversed = reversed(list_a)"
   ],
   "metadata": {
    "collapsed": false,
    "pycharm": {
     "name": "#%%\n"
    }
   }
  },
  {
   "cell_type": "code",
   "execution_count": 7,
   "outputs": [
    {
     "name": "stdout",
     "output_type": "stream",
     "text": [
      "# reversed() 함수\n",
      "reversed([1, 2, 3, 4, 5]):  <list_reverseiterator object at 0x7fb977ffe3d0>\n",
      "list(reversed([1, 2, 3, 4, 5]):  [5, 4, 3, 2, 1]\n",
      "\n"
     ]
    }
   ],
   "source": [
    "# 출력\n",
    "print(\"# reversed() 함수\")\n",
    "print(\"reversed([1, 2, 3, 4, 5]): \", list_reversed)\n",
    "print(\"list(reversed([1, 2, 3, 4, 5]): \", list(list_reversed))\n",
    "print()"
   ],
   "metadata": {
    "collapsed": false,
    "pycharm": {
     "name": "#%%\n"
    }
   }
  },
  {
   "cell_type": "code",
   "execution_count": 10,
   "outputs": [
    {
     "name": "stdout",
     "output_type": "stream",
     "text": [
      "# reversed() 함수와 반복문\n",
      "for i in reversed([1, 2, 3, 4, 5]): \n",
      "- 5\n",
      "- 4\n",
      "- 3\n",
      "- 2\n",
      "- 1\n"
     ]
    }
   ],
   "source": [
    "# 바복문 만들기\n",
    "print(\"# reversed() 함수와 반복문\")\n",
    "print(\"for i in reversed([1, 2, 3, 4, 5]): \")\n",
    "for i in reversed(list_a):\n",
    "    print(\"-\", i)"
   ],
   "metadata": {
    "collapsed": false,
    "pycharm": {
     "name": "#%%\n"
    }
   }
  },
  {
   "cell_type": "code",
   "execution_count": 12,
   "outputs": [
    {
     "name": "stdout",
     "output_type": "stream",
     "text": [
      "첫 번째 반복문: 6\n",
      "첫 번째 반복문: 5\n",
      "첫 번째 반복문: 4\n",
      "첫 번째 반복문: 3\n",
      "첫 번째 반복문: 2\n",
      "첫 번째 반복문: 1\n"
     ]
    }
   ],
   "source": [
    "# 두번째 반복무이 출력되지 않는 이유?\n",
    "temp = reversed([1, 2, 3, 4, 5, 6])\n",
    "\n",
    "for i in temp:\n",
    "    print(\"첫 번째 반복문: {}\".format(i))\n",
    "\n",
    "for i in temp:\n",
    "    print(\"두 번째 반복문: {}\".format(i))"
   ],
   "metadata": {
    "collapsed": false,
    "pycharm": {
     "name": "#%%\n"
    }
   }
  },
  {
   "cell_type": "code",
   "execution_count": 13,
   "outputs": [
    {
     "data": {
      "text/plain": "[1, 2, 3, 4, 5]"
     },
     "execution_count": 13,
     "metadata": {},
     "output_type": "execute_result"
    }
   ],
   "source": [
    "# 확장 슬라이싱 : 리스트를 뒤집을 수 있는 추가 방법\n",
    "# 리스트에 [:: -1]을 붙이면 리스트의 내용이 뒤집힘\n",
    "\n",
    "numbers = [1, 2, 3, 4, 5]\n",
    "numbers"
   ],
   "metadata": {
    "collapsed": false,
    "pycharm": {
     "name": "#%%\n"
    }
   }
  },
  {
   "cell_type": "code",
   "execution_count": 14,
   "outputs": [
    {
     "data": {
      "text/plain": "[5, 4, 3, 2, 1]"
     },
     "execution_count": 14,
     "metadata": {},
     "output_type": "execute_result"
    }
   ],
   "source": [
    "numbers[::-1]"
   ],
   "metadata": {
    "collapsed": false,
    "pycharm": {
     "name": "#%%\n"
    }
   }
  },
  {
   "cell_type": "code",
   "execution_count": 15,
   "outputs": [
    {
     "data": {
      "text/plain": "'요세하녕안'"
     },
     "execution_count": 15,
     "metadata": {},
     "output_type": "execute_result"
    }
   ],
   "source": [
    "\"안녕하세요\"[::-1]"
   ],
   "metadata": {
    "collapsed": false,
    "pycharm": {
     "name": "#%%\n"
    }
   }
  },
  {
   "cell_type": "code",
   "execution_count": 16,
   "outputs": [
    {
     "name": "stdout",
     "output_type": "stream",
     "text": [
      "0번째 요소는 요소A입니다.\n",
      "1번째 요소는 요소B입니다.\n",
      "2번째 요소는 요소C입니다.\n"
     ]
    }
   ],
   "source": [
    "## enumerate()함수와 반복문 조합하기\n",
    "# example_list = [\"요소A\", \"요소B\", \"요소C\"]\n",
    "\n",
    "example_list = [\"요소A\", \"요소B\", \"요소C\"]\n",
    "i = 0\n",
    "\n",
    "for item in example_list:\n",
    "    print(\"{}번째 요소는 {}입니다.\".format(i, item))\n",
    "    i += 1"
   ],
   "metadata": {
    "collapsed": false,
    "pycharm": {
     "name": "#%%\n"
    }
   }
  },
  {
   "cell_type": "code",
   "execution_count": 18,
   "outputs": [
    {
     "name": "stdout",
     "output_type": "stream",
     "text": [
      "0번째 요소는 요소A입니다.\n",
      "1번째 요소는 요소B입니다.\n",
      "2번째 요소는 요소C입니다.\n"
     ]
    }
   ],
   "source": [
    "example_list = [\"요소A\", \"요소B\", \"요소C\"]\n",
    "for i in range(len(example_list)):\n",
    "    print(\"{}번째 요소는 {}입니다.\".format(i, example_list[i]))"
   ],
   "metadata": {
    "collapsed": false,
    "pycharm": {
     "name": "#%%\n"
    }
   }
  },
  {
   "cell_type": "code",
   "execution_count": 20,
   "outputs": [
    {
     "name": "stdout",
     "output_type": "stream",
     "text": [
      "# 단순 출력\n",
      "['요소A', '요소B', '요소C']\n",
      "\n",
      "# enumerate() 함수 적용 출력\n",
      "<enumerate object at 0x7fb97900a080>\n",
      "\n",
      "# list 함수 이용해 강제 변환하여 출력\n",
      "[(0, '요소A'), (1, '요소B'), (2, '요소C')]\n"
     ]
    }
   ],
   "source": [
    "## enumerate()함수는 현재 인덱스가 몇번째인지 확인해야 하는 경우 유용하게 쓰임\n",
    "example_list = [\"요소A\", \"요소B\", \"요소C\"]\n",
    "\n",
    "# 출력\n",
    "print(\"# 단순 출력\")\n",
    "print(example_list)\n",
    "print()\n",
    "\n",
    "# enumerate() 함수를 적용해 출력하기\n",
    "print(\"# enumerate() 함수 적용 출력\")\n",
    "print(enumerate(example_list))\n",
    "print()\n",
    "\n",
    "# list 함수 이용해 강제 변환하여 출력\n",
    "print(\"# list 함수 이용해 강제 변환하여 출력\")\n",
    "print(list(enumerate(example_list)))"
   ],
   "metadata": {
    "collapsed": false,
    "pycharm": {
     "name": "#%%\n"
    }
   }
  },
  {
   "cell_type": "code",
   "execution_count": 22,
   "outputs": [
    {
     "ename": "SyntaxError",
     "evalue": "unexpected EOF while parsing (1831530425.py, line 4)",
     "output_type": "error",
     "traceback": [
      "\u001B[0;36m  File \u001B[0;32m\"/var/folders/wy/719kcs3n3n996fcg0cbr_0s00000gn/T/ipykernel_72633/1831530425.py\"\u001B[0;36m, line \u001B[0;32m4\u001B[0m\n\u001B[0;31m    print(\"{}번째 요소는 {}입니다\".format(i, i)\u001B[0m\n\u001B[0m                                       ^\u001B[0m\n\u001B[0;31mSyntaxError\u001B[0m\u001B[0;31m:\u001B[0m unexpected EOF while parsing\n"
     ]
    }
   ],
   "source": [
    "# 반복문과 조합하기\n",
    "print(\"# 반복문과 조합하기\")\n",
    "for i, value in enumerate(example_list):\n",
    "    print(\"{}번째 요소는 {}입니다\".format(i, value))"
   ],
   "metadata": {
    "collapsed": false,
    "pycharm": {
     "name": "#%%\n"
    }
   }
  },
  {
   "cell_type": "code",
   "execution_count": 24,
   "outputs": [],
   "source": [
    "\n",
    "# 딕셔어리의 items() 함수와 반복문 조합하기\n",
    "# enumerate() 함수와 반복문을 조합해 for i, value in enumerate(리스트) 형태를 이용해\n",
    "# 함수를 작성할 수 있었던 것처럼 딕셔너리는 Items()함수를 이용해 키와 값을 조합해서 쉽게 반복문을\n",
    "# 작성할 수 있다."
   ],
   "metadata": {
    "collapsed": false,
    "pycharm": {
     "name": "#%%\n"
    }
   }
  },
  {
   "cell_type": "code",
   "execution_count": 28,
   "outputs": [],
   "source": [
    "# 변수 선언하기\n",
    "example_dic = {\n",
    "    \"키 A\" : \"값 A\",\n",
    "    \"키 B\" : \"값 B\",\n",
    "    \"키 C\" : \"값 C\",\n",
    "}"
   ],
   "metadata": {
    "collapsed": false,
    "pycharm": {
     "name": "#%%\n"
    }
   }
  },
  {
   "cell_type": "code",
   "execution_count": 29,
   "outputs": [
    {
     "name": "stdout",
     "output_type": "stream",
     "text": [
      "# 딕셔너리의 items() 함수\n",
      "items(): dict_items([('키 A', '값 A'), ('키 B', '값 B'), ('키 C', '값 C')])\n",
      "\n"
     ]
    }
   ],
   "source": [
    "# 딕셔너리의 items() 함수 결과 출력하기\n",
    "print(\"# 딕셔너리의 items() 함수\")\n",
    "print(\"items():\", example_dic.items())\n",
    "print()"
   ],
   "metadata": {
    "collapsed": false,
    "pycharm": {
     "name": "#%%\n"
    }
   }
  },
  {
   "cell_type": "code",
   "execution_count": 32,
   "outputs": [
    {
     "name": "stdout",
     "output_type": "stream",
     "text": [
      "dictionary[키 A] = 값 A\n",
      "dictionary[키 B] = 값 B\n",
      "dictionary[키 C] = 값 C\n"
     ]
    }
   ],
   "source": [
    "# 반복문과 조합하여 사용하기\n",
    "for key, element in example_dic.items():\n",
    "    print(\"dictionary[{}] = {}\".format(key, element))"
   ],
   "metadata": {
    "collapsed": false,
    "pycharm": {
     "name": "#%%\n"
    }
   }
  },
  {
   "cell_type": "code",
   "execution_count": 33,
   "outputs": [
    {
     "name": "stdout",
     "output_type": "stream",
     "text": [
      "[0, 4, 16, 36, 64, 100, 144, 196, 256, 324]\n"
     ]
    }
   ],
   "source": [
    "## '리스트 내포'를 이용해 반복문으로 제곱해서 새로운 리스트 만들기\n",
    "array = []\n",
    "\n",
    "# 반복문 쓰기\n",
    "for i in range(0, 20, 2):\n",
    "    array.append(i * i)\n",
    "\n",
    "print(array)"
   ],
   "metadata": {
    "collapsed": false,
    "pycharm": {
     "name": "#%%\n"
    }
   }
  },
  {
   "cell_type": "code",
   "execution_count": 35,
   "outputs": [
    {
     "name": "stdout",
     "output_type": "stream",
     "text": [
      "[0, 4, 16, 36, 64, 100, 144, 196, 256, 324]\n"
     ]
    }
   ],
   "source": [
    "# 리스트 안에 for문 쓰기\n",
    "array = [i * i for i in range(0, 20, 2)] # 최종결과인 i * i를 넣음\n",
    "\n",
    "print(array)"
   ],
   "metadata": {
    "collapsed": false,
    "pycharm": {
     "name": "#%%\n"
    }
   }
  },
  {
   "cell_type": "code",
   "execution_count": 37,
   "outputs": [
    {
     "name": "stdout",
     "output_type": "stream",
     "text": [
      "['사과', '자두', '바나나', '체리']\n"
     ]
    }
   ],
   "source": [
    "\n",
    "# 초콜렛 없이 재조합하는 리스트로 만들기\n",
    "# 리스트 선언하기\n",
    "array = [\"사과\", \"자두\", \"초콜렛\", \"바나나\", \"체리\"]\n",
    "output = [fruit for fruit in array if fruit != \"초콜렛\"]\n",
    "print(output)"
   ],
   "metadata": {
    "collapsed": false,
    "pycharm": {
     "name": "#%%\n"
    }
   }
  },
  {
   "cell_type": "code",
   "execution_count": 41,
   "outputs": [
    {
     "name": "stdout",
     "output_type": "stream",
     "text": [
      "    입력한 문자열은 2입니다.\n",
      "    2(은)는 짝수입니다.\n"
     ]
    }
   ],
   "source": [
    "## 구문 내부에 여러 줄 문자열을 사용했을 때의 문제점\n",
    "## 괴상한 들여쓰기간 된다\n",
    "# 변수를 선언하기\n",
    "number = int(input(\"정수를 입력하시오\"))\n",
    "\n",
    "# if 조건문으로 홀수/짝수 구분하기\n",
    "if number % 2 == 0:\n",
    "    print(\"\"\"\\\n",
    "    입력한 문자열은 {}입니다.\n",
    "    {}(은)는 짝수입니다.\"\"\".format(number, number))\n",
    "\n",
    "else:\n",
    "    print(\"\"\"\\\n",
    "    입력한 문자열은 {}입니다.\n",
    "    {}(은)는 홀수입니다.\"\"\".format(number, number))"
   ],
   "metadata": {
    "collapsed": false,
    "pycharm": {
     "name": "#%%\n"
    }
   }
  },
  {
   "cell_type": "code",
   "execution_count": 45,
   "outputs": [
    {
     "name": "stdout",
     "output_type": "stream",
     "text": [
      "입력한 문자열은 11입니다.\n",
      "11(은)는 홀수입니다.\n"
     ]
    }
   ],
   "source": [
    "## 해결 방안?\n",
    "## if 조건문과 여러 줄 문자열(2)\n",
    "# 변수를 선언하기\n",
    "number = int(input(\"정수를 입력하시오\"))\n",
    "\n",
    "# 변수를 선언\n",
    "if number % 2 == 0:\n",
    "    print(\"\"\"입력한 문자열은 {}입니다.\n",
    "{}(은)는 짝수입니다.\"\"\".format(number, number))\n",
    "\n",
    "else:\n",
    "    print(\"\"\"입력한 문자열은 {}입니다.\n",
    "{}(은)는 홀수입니다.\"\"\".format(number, number))\n",
    "\n",
    "# 모양새가 이상함"
   ],
   "metadata": {
    "collapsed": false,
    "pycharm": {
     "name": "#%%\n"
    }
   }
  },
  {
   "cell_type": "code",
   "execution_count": 48,
   "outputs": [
    {
     "name": "stdout",
     "output_type": "stream",
     "text": [
      "이렇게 입력해도 하나의 문자열로 입력되어 생성됩니다.\n"
     ]
    }
   ],
   "source": [
    "## 해결방안 - 괄호로 문자열 연결하기\n",
    "# 변수를 선언하기\n",
    "test = (\n",
    "    \"이렇게 입력해도 \"\n",
    "    \"하나의 문자열로 입력되어 \"\n",
    "    \"생성됩니다.\"\n",
    ")\n",
    "\n",
    "print(test)"
   ],
   "metadata": {
    "collapsed": false,
    "pycharm": {
     "name": "#%%\n"
    }
   }
  },
  {
   "cell_type": "code",
   "execution_count": 50,
   "outputs": [
    {
     "name": "stdout",
     "output_type": "stream",
     "text": [
      "입력한 문자열은 13입니다.\n",
      "13(은)는 홀수입니다.\n"
     ]
    }
   ],
   "source": [
    "## 여러 줄 문자열과 if 구문을 조합했을 때의 문제해결\n",
    "# 변수를 선언하기\n",
    "number = int(input(\"정수를 입력하시오\"))\n",
    "\n",
    "# if 조건문으로 홀수/짝수 구분하기\n",
    "if number % 2 == 0:\n",
    "    print((\n",
    "        \"입력한 문자열은 {}입니다.\\n\"\n",
    "        \"{}(은)는 짝수입니다.\"\n",
    "    .format(number, number)\n",
    "    ))\n",
    "\n",
    "else:\n",
    "    print((\n",
    "        \"입력한 문자열은 {}입니다.\\n\"\n",
    "        \"{}(은)는 홀수입니다.\"\n",
    "        .format(number, number)\n",
    "    ))"
   ],
   "metadata": {
    "collapsed": false,
    "pycharm": {
     "name": "#%%\n"
    }
   }
  },
  {
   "cell_type": "code",
   "execution_count": 51,
   "outputs": [
    {
     "name": "stdout",
     "output_type": "stream",
     "text": [
      "1::2::3::4::5\n"
     ]
    }
   ],
   "source": [
    "## join() 함수\n",
    "## 문자열.join(리스트)\n",
    "\n",
    "print(\"::\".join([\"1\", \"2\", \"3\", \"4\", \"5\"]))"
   ],
   "metadata": {
    "collapsed": false,
    "pycharm": {
     "name": "#%%\n"
    }
   }
  },
  {
   "cell_type": "code",
   "execution_count": 53,
   "outputs": [
    {
     "name": "stdout",
     "output_type": "stream",
     "text": [
      "입력한 문자열은 14입니다.\n",
      "14(은)는 짝수입니다.\n"
     ]
    }
   ],
   "source": [
    "# 변수를 선언하기\n",
    "number = int(input(\"정수를 입력하시오\"))\n",
    "\n",
    "# if 조건문으로 홀수/짝수 구분하기\n",
    "if number % 2 == 0:\n",
    "    print((\"\\n\".join([\n",
    "        \"입력한 문자열은 {}입니다.\\n\"\n",
    "        \"{}(은)는 짝수입니다.\"\n",
    "    ]).format(number, number)))\n",
    "\n",
    "else:\n",
    "    print((\"\\n\".join([\n",
    "        \"입력한 문자열은 {}입니다.\\n\"\n",
    "        \"{}(은)는 홀수입니다.\"\n",
    "    ]).format(number, number)))"
   ],
   "metadata": {
    "collapsed": false,
    "pycharm": {
     "name": "#%%\n"
    }
   }
  },
  {
   "cell_type": "code",
   "execution_count": 56,
   "outputs": [
    {
     "name": "stdout",
     "output_type": "stream",
     "text": [
      "reversed_numbers:  <list_reverseiterator object at 0x7fb97865bfd0>\n",
      "6\n",
      "5\n",
      "4\n",
      "3\n",
      "2\n"
     ]
    }
   ],
   "source": [
    "## reversed()와 이터레이터\n",
    "# 변수 선언하기\n",
    "numbers = [1, 2, 3, 4, 5, 6]\n",
    "r_num = reversed(numbers)\n",
    "\n",
    "# reversed_numbers 출력\n",
    "print(\"reversed_numbers: \", r_num)\n",
    "print(next(r_num))\n",
    "print(next(r_num))\n",
    "print(next(r_num))\n",
    "print(next(r_num))\n",
    "print(next(r_num))"
   ],
   "metadata": {
    "collapsed": false,
    "pycharm": {
     "name": "#%%\n"
    }
   }
  },
  {
   "cell_type": "code",
   "execution_count": null,
   "outputs": [],
   "source": [],
   "metadata": {
    "collapsed": false,
    "pycharm": {
     "name": "#%%\n"
    }
   }
  }
 ],
 "metadata": {
  "kernelspec": {
   "name": "pycharm-5941a516",
   "language": "python",
   "display_name": "PyCharm (python-coding-pratice)"
  },
  "language_info": {
   "codemirror_mode": {
    "name": "ipython",
    "version": 2
   },
   "file_extension": ".py",
   "mimetype": "text/x-python",
   "name": "python",
   "nbconvert_exporter": "python",
   "pygments_lexer": "ipython2",
   "version": "2.7.6"
  }
 },
 "nbformat": 4,
 "nbformat_minor": 0
}