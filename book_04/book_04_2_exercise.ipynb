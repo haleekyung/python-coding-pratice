{
 "cells": [
  {
   "cell_type": "code",
   "execution_count": 1,
   "metadata": {
    "collapsed": true
   },
   "outputs": [],
   "source": [
    "# 딕셔너리(dictionary)는 키를 기반으로 여러 자료를 저장하는 자료형입니다.\n",
    "# 키(key)는 딕셔너리 내부에서 값에 접근할 때 사용하는 것입니다.\n",
    "# 값(value)은 딕셔너리 내부에 있는 각각의 내용을 의미합니다."
   ]
  },
  {
   "cell_type": "code",
   "execution_count": 3,
   "outputs": [
    {
     "data": {
      "text/plain": "{'name': '구름'}"
     },
     "execution_count": 3,
     "metadata": {},
     "output_type": "execute_result"
    }
   ],
   "source": [
    "# 확인문제 1. dic_a의 결과가 나오도록 빈칸 채우기\n",
    "# 1)\n",
    "dict_a = {}\n",
    "dict_a = {'name': '구름'}\n",
    "dict_a"
   ],
   "metadata": {
    "collapsed": false,
    "pycharm": {
     "name": "#%%\n"
    }
   }
  },
  {
   "cell_type": "code",
   "execution_count": 4,
   "outputs": [
    {
     "data": {
      "text/plain": "{}"
     },
     "execution_count": 4,
     "metadata": {},
     "output_type": "execute_result"
    }
   ],
   "source": [
    "# 2)\n",
    "dict_a\n",
    "del dict_a[\"name\"]\n",
    "\n",
    "dict_a"
   ],
   "metadata": {
    "collapsed": false,
    "pycharm": {
     "name": "#%%\n"
    }
   }
  },
  {
   "cell_type": "code",
   "execution_count": 25,
   "outputs": [
    {
     "name": "stdout",
     "output_type": "stream",
     "text": [
      "우리 동네 애완 동물들\n",
      "구름 5살\n",
      "초코 3살\n",
      "아지 1살\n",
      "호랑이 1살\n"
     ]
    }
   ],
   "source": [
    "# 확인문제 2. 반복문과 print() 함수 조합하기\n",
    "pets = [\n",
    "    {\"name\" : \"구름\" , \"age\" : \"5\"},\n",
    "    {\"name\" : \"초코\" , \"age\" : \"3\"},\n",
    "    {\"name\" : \"아지\" , \"age\" : \"1\"},\n",
    "    {\"name\" : \"호랑이\" , \"age\" : \"1\"},\n",
    "]\n",
    "\n",
    "print(\"우리 동네 애완 동물들\")\n",
    "\n",
    "for key in pets:\n",
    "    name = key[\"name\"]\n",
    "    age = key[\"age\"]\n",
    "    print(name, age.rstrip() + \"살\")"
   ],
   "metadata": {
    "collapsed": false,
    "pycharm": {
     "name": "#%%\n"
    }
   }
  },
  {
   "cell_type": "code",
   "execution_count": 53,
   "outputs": [
    {
     "name": "stdout",
     "output_type": "stream",
     "text": [
      "1:  3\n",
      "1:  3\n",
      "1:  3\n"
     ]
    }
   ],
   "source": [
    "# 확인문제 3. 빈칸을 채워 numbers 내부에 있는 숫자가 몇 번 등장하는지 출력\n",
    "# 숫자는 무작위로 입력해도 상관없다\n",
    "\n",
    "numbers = [1, 2, 6, 8, 4, 3, 2, 1, 9, 5, 4, 9, 7, 2, 1, 3, 5, 4, 8, 9, 7, 2 ,3]\n",
    "counter = {}\n",
    "\n",
    "for number in numbers:\n",
    "    if number == 1:\n",
    "        print(\"1: \", numbers.count(1))"
   ],
   "metadata": {
    "collapsed": false,
    "pycharm": {
     "name": "#%%\n"
    }
   }
  },
  {
   "cell_type": "code",
   "execution_count": null,
   "outputs": [],
   "source": [],
   "metadata": {
    "collapsed": false,
    "pycharm": {
     "name": "#%%\n"
    }
   }
  }
 ],
 "metadata": {
  "kernelspec": {
   "display_name": "Python 3",
   "language": "python",
   "name": "python3"
  },
  "language_info": {
   "codemirror_mode": {
    "name": "ipython",
    "version": 2
   },
   "file_extension": ".py",
   "mimetype": "text/x-python",
   "name": "python",
   "nbconvert_exporter": "python",
   "pygments_lexer": "ipython2",
   "version": "2.7.6"
  }
 },
 "nbformat": 4,
 "nbformat_minor": 0
}