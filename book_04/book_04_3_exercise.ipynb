{
 "cells": [
  {
   "cell_type": "code",
   "execution_count": 41,
   "metadata": {
    "collapsed": true
   },
   "outputs": [],
   "source": [
    "# 확인문제 1. 표 채워보기\n",
    "# range(5) = [0, 1, 2, 3, 4]\n",
    "# range(4, 6) = [4, 5]\n",
    "# range(7, 0, -1) = [6, 5, 4, 3, 2, 1, 0]\n",
    "# range(3, 8) = [3, 4, 5, 6, 7]\n",
    "# range(3, 10, 3) = [3, 6, 9]\n"
   ]
  },
  {
   "cell_type": "code",
   "execution_count": 51,
   "outputs": [
    {
     "name": "stdout",
     "output_type": "stream",
     "text": [
      "{'name': '기사', 'hp': 200, 'mp': 30, 'level': 5}\n"
     ]
    }
   ],
   "source": [
    "# 확인문제 2. 리스트 조합해 하나의 딕셔너리 만들어보기\n",
    "# 길이를 사용해 반복문 돌리면 필요한 인덱스에 접근할 수 있다.\n",
    "key_list = [\"name\", \"hp\", \"mp\", \"level\"]\n",
    "value_list = [\"기사\", 200, 30, 5]\n",
    "character = {}\n",
    "\n",
    "for i in range(len(key_list)):\n",
    "    character[key_list[i]] = value_list[i]\n",
    "\n",
    "print(character)"
   ],
   "metadata": {
    "collapsed": false,
    "pycharm": {
     "name": "#%%\n"
    }
   }
  },
  {
   "cell_type": "code",
   "execution_count": 43,
   "outputs": [
    {
     "name": "stdout",
     "output_type": "stream",
     "text": [
      "141를 더할 때 10000을 넘으며 그 때의 값은 10011입니다.\n"
     ]
    }
   ],
   "source": [
    "# 확인문제 3. 1부터 숫자 증가시키면서 더하는 경우 몇을 더할 때 1000을 넘는지 구해보기\n",
    "# 값도 출력해보기\n",
    "# sum은 파이썬 내부에서 사용하는 식별자이므로, sumValue라는 변수 이름을 사용함\n",
    "\n",
    "\n",
    "limit = 10000\n",
    "i = 0\n",
    "sumValue = 0\n",
    "\n",
    "while sumValue < limit:\n",
    "    i += 1\n",
    "    sumValue += i # +=는 i 뒤에 sumValue를 중복해서 더한다는 뜻\n",
    "\n",
    "print(\"{}를 더할 때 {}을 넘으며 그 때의 값은 {}입니다.\".format(i, limit, sumValue))"
   ],
   "metadata": {
    "collapsed": false,
    "pycharm": {
     "name": "#%%\n"
    }
   }
  },
  {
   "cell_type": "code",
   "execution_count": 61,
   "outputs": [
    {
     "name": "stdout",
     "output_type": "stream",
     "text": [
      "최대가 되는 경우: 0 * 0 = 0\n"
     ]
    }
   ],
   "source": [
    "# 확인문제 4. 1부터 100까지 숫자를 계산한다고 했을 때, 최대가 되는 경우는\n",
    "# 어떤 숫자를 곱했을 때인지를 찾아보기\n",
    "\n",
    "# 1 * 99, 2 * 98, 3 * 97... 98 * 2, 99 * 1\n",
    "# 실행결과 : 최대가 되는 경우 - 50 * 50 = 2500\n",
    "\n",
    "maxValue = 0\n",
    "a = 0 # i 값이 maxValue값을 최대로 만드는 수\n",
    "b = 0 # j 값이 maxValue값을 최대로 맏느는 수\n",
    "\n",
    "for i in range(99):\n",
    "    i += 1\n",
    "    j = 100 - i\n",
    "\n",
    "while i * j > i * j:\n",
    "    a = i\n",
    "    b = j\n",
    "    maxValue = i * j\n",
    "\n",
    "print(\"최대가 되는 경우: {} * {} = {}\". format(a, b, maxValue))"
   ],
   "metadata": {
    "collapsed": false,
    "pycharm": {
     "name": "#%%\n"
    }
   }
  },
  {
   "cell_type": "code",
   "execution_count": null,
   "outputs": [],
   "source": [],
   "metadata": {
    "collapsed": false,
    "pycharm": {
     "name": "#%%\n"
    }
   }
  }
 ],
 "metadata": {
  "kernelspec": {
   "name": "python3",
   "language": "python",
   "display_name": "Python 3"
  },
  "language_info": {
   "codemirror_mode": {
    "name": "ipython",
    "version": 2
   },
   "file_extension": ".py",
   "mimetype": "text/x-python",
   "name": "python",
   "nbconvert_exporter": "python",
   "pygments_lexer": "ipython2",
   "version": "2.7.6"
  }
 },
 "nbformat": 4,
 "nbformat_minor": 0
}