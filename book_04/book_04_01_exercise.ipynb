{
 "cells": [
  {
   "cell_type": "code",
   "execution_count": 1,
   "metadata": {
    "collapsed": true
   },
   "outputs": [],
   "source": [
    "# 확인문제 1: list_a의 결과 예상해보기\n",
    "# list_a = [0, 1, 2, 3, 4, 5, 6, 7]\n",
    "## 1) list_a.extend(list_a) : 0, 1, 2, 3, 4, 5, 6, 7, 0, 1, 2, 3, 4, 5, 6, 7\n",
    "## 2) list_a.append(10) : 0, 1, 2, 3, 4, 5, 6, 7, 10\n",
    "## 3) list_a.insert(3, 0) : 0, 1, 2, 0, 3 4, 5, 6, 7\n",
    "## 4) list_a.remove(3) : 0, 1, 2, 4, 5, 6, 7\n",
    "## 5) list_a.pop(3) : 0, 1, 2, 4, 5, 6, 7\n",
    "## 6) list_a.clear() : []"
   ]
  },
  {
   "cell_type": "code",
   "execution_count": 19,
   "outputs": [
    {
     "data": {
      "text/plain": "[0, 1, 2, 3, 4, 5, 6, 7, 0, 1, 2, 3, 4, 5, 6, 7]"
     },
     "execution_count": 19,
     "metadata": {},
     "output_type": "execute_result"
    }
   ],
   "source": [
    "# 확인문제 1번 답 - 1)\n",
    "list_a = [0, 1, 2, 3, 4, 5, 6, 7]\n",
    "list_a.extend(list_a)\n",
    "list_a"
   ],
   "metadata": {
    "collapsed": false,
    "pycharm": {
     "name": "#%%\n"
    }
   }
  },
  {
   "cell_type": "code",
   "execution_count": 20,
   "outputs": [
    {
     "name": "stdout",
     "output_type": "stream",
     "text": [
      "[0, 1, 2, 3, 4, 5, 6, 7, 10]\n"
     ]
    }
   ],
   "source": [
    "# 확인문제 1번 답 - 2)\n",
    "list_a = [0, 1, 2, 3, 4, 5, 6, 7]\n",
    "list_a.append(10)\n",
    "print(list_a)"
   ],
   "metadata": {
    "collapsed": false,
    "pycharm": {
     "name": "#%%\n"
    }
   }
  },
  {
   "cell_type": "code",
   "execution_count": 21,
   "outputs": [
    {
     "name": "stdout",
     "output_type": "stream",
     "text": [
      "[0, 1, 2, 0, 3, 4, 5, 6, 7]\n"
     ]
    }
   ],
   "source": [
    "# 확인문제 1번 답 - 3)\n",
    "\n",
    "list_a = [0, 1, 2, 3, 4, 5, 6, 7]\n",
    "list_a.insert(3, 0)\n",
    "print(list_a)"
   ],
   "metadata": {
    "collapsed": false,
    "pycharm": {
     "name": "#%%\n"
    }
   }
  },
  {
   "cell_type": "code",
   "execution_count": 22,
   "outputs": [
    {
     "name": "stdout",
     "output_type": "stream",
     "text": [
      "[0, 1, 2, 4, 5, 6, 7]\n"
     ]
    }
   ],
   "source": [
    "# 확인문제 1번 답 - 4)\n",
    "\n",
    "list_a = [0, 1, 2, 3, 4, 5, 6, 7]\n",
    "list_a.remove(3)\n",
    "print(list_a)"
   ],
   "metadata": {
    "collapsed": false,
    "pycharm": {
     "name": "#%%\n"
    }
   }
  },
  {
   "cell_type": "code",
   "execution_count": 23,
   "outputs": [
    {
     "name": "stdout",
     "output_type": "stream",
     "text": [
      "[0, 1, 2, 4, 5, 6, 7]\n"
     ]
    }
   ],
   "source": [
    "# 확인문제 1번 답 - 5)\n",
    "\n",
    "list_a = [0, 1, 2, 3, 4, 5, 6, 7]\n",
    "list_a.pop(3)\n",
    "print(list_a)"
   ],
   "metadata": {
    "collapsed": false,
    "pycharm": {
     "name": "#%%\n"
    }
   }
  },
  {
   "cell_type": "code",
   "execution_count": 24,
   "outputs": [
    {
     "name": "stdout",
     "output_type": "stream",
     "text": [
      "[]\n"
     ]
    }
   ],
   "source": [
    "list_a.clear()\n",
    "print(list_a)"
   ],
   "metadata": {
    "collapsed": false,
    "pycharm": {
     "name": "#%%\n"
    }
   }
  },
  {
   "cell_type": "code",
   "execution_count": 30,
   "outputs": [
    {
     "name": "stdout",
     "output_type": "stream",
     "text": [
      "- 100 이상의 수:  273\n",
      "- 100 이상의 수:  103\n",
      "- 100 이상의 수:  800\n"
     ]
    }
   ],
   "source": [
    "# 확인문제 2번 : if 조건문의 조건식 채워 100이상의 숫자만 출력하게 만들기\n",
    "numbers = [273, 103, 5, 32, 65, 9, 72, 800, 99]\n",
    "\n",
    "for number in numbers:\n",
    "    if number > 100:\n",
    "        print(\"- 100 이상의 수: \", number)"
   ],
   "metadata": {
    "collapsed": false,
    "pycharm": {
     "name": "#%%\n"
    }
   }
  },
  {
   "cell_type": "code",
   "execution_count": 33,
   "outputs": [
    {
     "name": "stdout",
     "output_type": "stream",
     "text": [
      "273 는 홀수입니다.\n",
      "103 는 홀수입니다.\n",
      "5 는 홀수입니다.\n",
      "32 는 짝수입니다.\n",
      "65 는 홀수입니다.\n",
      "9 는 홀수입니다.\n",
      "72 는 짝수입니다.\n",
      "800 는 짝수입니다.\n",
      "99 는 홀수입니다.\n"
     ]
    }
   ],
   "source": [
    "# 확인문제 3-1번 : 빈칸을 채워 실행결과에 해당하는 프로그램을 완성해보기\n",
    "\n",
    "numbers = [273, 103, 5, 32, 65, 9, 72, 800, 99]\n",
    "\n",
    "for number in numbers:\n",
    "    if number % 2 == 0:\n",
    "        print(number, \"는 짝수입니다.\")\n",
    "    else:\n",
    "        print(number, \"는 홀수입니다.\")"
   ],
   "metadata": {
    "collapsed": false,
    "pycharm": {
     "name": "#%%\n"
    }
   }
  },
  {
   "cell_type": "code",
   "execution_count": 34,
   "outputs": [
    {
     "name": "stdout",
     "output_type": "stream",
     "text": [
      "273 는 3 자릿수입니다.\n",
      "103 는 3 자릿수입니다.\n",
      "5 는 1 자릿수입니다.\n",
      "32 는 2 자릿수입니다.\n",
      "65 는 2 자릿수입니다.\n",
      "9 는 1 자릿수입니다.\n",
      "72 는 2 자릿수입니다.\n",
      "800 는 3 자릿수입니다.\n",
      "99 는 2 자릿수입니다.\n"
     ]
    }
   ],
   "source": [
    "\n",
    "# 확인문제 3-2번 : 빈칸을 채워 실행결과에 해당하는 프로그램을 완성해보기\n",
    "\n",
    "numbers = [273, 103, 5, 32, 65, 9, 72, 800, 99]\n",
    "\n",
    "for number in numbers:\n",
    "    if number > 100:\n",
    "        print(number, \"는 3 자릿수입니다.\")\n",
    "    elif number > 10:\n",
    "        print(number, \"는 2 자릿수입니다.\")\n",
    "    else:\n",
    "        print(number, \"는 1 자릿수입니다.\")"
   ],
   "metadata": {
    "collapsed": false,
    "pycharm": {
     "name": "#%%\n"
    }
   }
  },
  {
   "cell_type": "code",
   "execution_count": 63,
   "outputs": [
    {
     "name": "stdout",
     "output_type": "stream",
     "text": [
      "1\n",
      "2\n",
      "3\n",
      "4\n",
      "5\n",
      "6\n",
      "7\n",
      "8\n",
      "9\n"
     ]
    }
   ],
   "source": [
    "\n",
    "# 확인문제 4번 : 다음 빈칸 채워 실행결과처럼 숫자 하나하나 모두 출력해보기\n",
    "list_of_list = [\n",
    "    [1, 2, 3],\n",
    "    [4, 5, 6, 7],\n",
    "    [8, 9]\n",
    "]\n",
    "\n",
    "## 해당 코드가 바람직한지 확인 요망\n",
    "for character in list_of_list:\n",
    "        a = character\n",
    "        for character in a:\n",
    "            print(character)"
   ],
   "metadata": {
    "collapsed": false,
    "pycharm": {
     "name": "#%%\n"
    }
   }
  },
  {
   "cell_type": "code",
   "execution_count": 108,
   "outputs": [],
   "source": [
    "# 확인문제 5번 : 실행결과처럼 출력되게 완성\n",
    "# 실행결과 : [[1, 4, 7], [2, 5, 8], [3, 6, 9]]\n",
    "numbers = [1, 2, 3, 4, 5, 6, 7, 8, 9]\n",
    "output = [[], [], []]"
   ],
   "metadata": {
    "collapsed": false,
    "pycharm": {
     "name": "#%%\n"
    }
   }
  },
  {
   "cell_type": "code",
   "execution_count": 109,
   "outputs": [
    {
     "name": "stdout",
     "output_type": "stream",
     "text": [
      "[[1, 4, 7], [2, 5, 8], [3, 6, 9]]\n"
     ]
    }
   ],
   "source": [
    "for number in numbers:\n",
    "    output[(number + 2) % 3].append(number)\n",
    "\n",
    "print(output)\n",
    "    # if (number + 3) % 3 == 1:\n",
    "    #     print(output)"
   ],
   "metadata": {
    "collapsed": false,
    "pycharm": {
     "name": "#%%\n"
    }
   }
  },
  {
   "cell_type": "code",
   "execution_count": 107,
   "outputs": [
    {
     "name": "stdout",
     "output_type": "stream",
     "text": [
      "[1, 4, 7, 1, 4, 7]\n",
      "[2, 5, 8, 2, 5, 8]\n",
      "[3, 6, 9, 3, 6, 9]\n"
     ]
    }
   ],
   "source": [
    "print(output[0])\n",
    "print(output[1])\n",
    "print(output[2])\n"
   ],
   "metadata": {
    "collapsed": false,
    "pycharm": {
     "name": "#%%\n"
    }
   }
  },
  {
   "cell_type": "code",
   "execution_count": 72,
   "outputs": [
    {
     "name": "stdout",
     "output_type": "stream",
     "text": [
      "[6, 12]\n"
     ]
    }
   ],
   "source": [
    "# 1 / 4 / 7\n",
    "# 만약 [1,2,3,4] 중에서 짝수에만 3을 곱하여 담고 싶다면\n",
    "# 다음과 같이 리스트 내포 안에 \"if 조건\"을 사용할 수 있다.\n",
    "\n",
    "a = [1, 2, 3, 4]\n",
    "result = [num * 3\n",
    "          for num in a\n",
    "          if num % 2 == 0]\n",
    "print(result)"
   ],
   "metadata": {
    "collapsed": false,
    "pycharm": {
     "name": "#%%\n"
    }
   }
  },
  {
   "cell_type": "code",
   "execution_count": null,
   "outputs": [],
   "source": [],
   "metadata": {
    "collapsed": false,
    "pycharm": {
     "name": "#%%\n"
    }
   }
  }
 ],
 "metadata": {
  "kernelspec": {
   "display_name": "Python 3",
   "language": "python",
   "name": "python3"
  },
  "language_info": {
   "codemirror_mode": {
    "name": "ipython",
    "version": 2
   },
   "file_extension": ".py",
   "mimetype": "text/x-python",
   "name": "python",
   "nbconvert_exporter": "python",
   "pygments_lexer": "ipython2",
   "version": "2.7.6"
  }
 },
 "nbformat": 4,
 "nbformat_minor": 0
}