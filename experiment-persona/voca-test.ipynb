{
 "cells": [
  {
   "cell_type": "code",
   "execution_count": 5,
   "metadata": {
    "collapsed": true
   },
   "outputs": [
    {
     "name": "stdout",
     "output_type": "stream",
     "text": [
      "Requirement already satisfied: pandas in /Library/Frameworks/Python.framework/Versions/3.8/lib/python3.8/site-packages (1.3.2)\r\n",
      "Requirement already satisfied: pytz>=2017.3 in /Library/Frameworks/Python.framework/Versions/3.8/lib/python3.8/site-packages (from pandas) (2021.1)\r\n",
      "Requirement already satisfied: numpy>=1.17.3 in /Library/Frameworks/Python.framework/Versions/3.8/lib/python3.8/site-packages (from pandas) (1.21.2)\r\n",
      "Requirement already satisfied: python-dateutil>=2.7.3 in /Library/Frameworks/Python.framework/Versions/3.8/lib/python3.8/site-packages (from pandas) (2.8.1)\r\n",
      "Requirement already satisfied: six>=1.5 in /Library/Frameworks/Python.framework/Versions/3.8/lib/python3.8/site-packages (from python-dateutil>=2.7.3->pandas) (1.16.0)\r\n",
      "\u001B[33mWARNING: You are using pip version 21.2.4; however, version 21.3.1 is available.\r\n",
      "You should consider upgrading via the '/usr/local/bin/python3.8 -m pip install --upgrade pip' command.\u001B[0m\r\n",
      "Note: you may need to restart the kernel to use updated packages.\n"
     ]
    }
   ],
   "source": [
    "pip install pandas"
   ]
  },
  {
   "cell_type": "code",
   "execution_count": 6,
   "outputs": [],
   "source": [
    "import pandas as pd\n",
    "import re\n",
    "import os"
   ],
   "metadata": {
    "collapsed": false,
    "pycharm": {
     "name": "#%%\n"
    }
   }
  },
  {
   "cell_type": "code",
   "execution_count": 86,
   "outputs": [
    {
     "data": {
      "text/plain": "        |  experimentType  round round0__answers__answer  \\\n0     강동옥             1.0    0.0                 Bonjour   \n1     NaN             NaN    NaN                     Oui   \n2     NaN             NaN    NaN                     NaN   \n3     NaN             NaN    NaN                     NaN   \n4     NaN             NaN    NaN                     NaN   \n...   ...             ...    ...                     ...   \n1375  NaN             NaN    NaN                     NaN   \n1376  NaN             NaN    NaN                     NaN   \n1377  NaN             NaN    NaN                     NaN   \n1378  NaN             NaN    NaN                     NaN   \n1379  NaN             NaN    NaN                     NaN   \n\n     round0__answers__myanswer round1__answers__answer  \\\n0                      Bonjour                   Merci   \n1                          Oui                 Bonsoir   \n2                          NaN                     Non   \n3                          NaN                    Café   \n4                          NaN                  Entrée   \n...                        ...                     ...   \n1375                       NaN                  Sortie   \n1376                       NaN              Université   \n1377                       NaN                  chaise   \n1378                       NaN         S'il vous plaît   \n1379                       NaN                  maison   \n\n     round1__answers__myanswer round2__answers__answer  \\\n0                        Mersi                   métro   \n1                      Bonsoir                     thé   \n2                          Non               téléphone   \n3                         Café                toilette   \n4                       Entrée                    taxi   \n...                        ...                     ...   \n1375                    Sortie             Excusez-moi   \n1376                Université                 bonheur   \n1377                    chaise                  auteur   \n1378           S'il vous plaît                     ail   \n1379                    maison                  saison   \n\n     round2__answers__myanswer  \n0                        métro  \n1                          téa  \n2                    teléphone  \n3                     toilette  \n4                         texi  \n...                        ...  \n1375               Excusez-moi  \n1376                   bonheur  \n1377                    auteur  \n1378                       ail  \n1379                    saison  \n\n[1380 rows x 9 columns]",
      "text/html": "<div>\n<style scoped>\n    .dataframe tbody tr th:only-of-type {\n        vertical-align: middle;\n    }\n\n    .dataframe tbody tr th {\n        vertical-align: top;\n    }\n\n    .dataframe thead th {\n        text-align: right;\n    }\n</style>\n<table border=\"1\" class=\"dataframe\">\n  <thead>\n    <tr style=\"text-align: right;\">\n      <th></th>\n      <th>|</th>\n      <th>experimentType</th>\n      <th>round</th>\n      <th>round0__answers__answer</th>\n      <th>round0__answers__myanswer</th>\n      <th>round1__answers__answer</th>\n      <th>round1__answers__myanswer</th>\n      <th>round2__answers__answer</th>\n      <th>round2__answers__myanswer</th>\n    </tr>\n  </thead>\n  <tbody>\n    <tr>\n      <th>0</th>\n      <td>강동옥</td>\n      <td>1.0</td>\n      <td>0.0</td>\n      <td>Bonjour</td>\n      <td>Bonjour</td>\n      <td>Merci</td>\n      <td>Mersi</td>\n      <td>métro</td>\n      <td>métro</td>\n    </tr>\n    <tr>\n      <th>1</th>\n      <td>NaN</td>\n      <td>NaN</td>\n      <td>NaN</td>\n      <td>Oui</td>\n      <td>Oui</td>\n      <td>Bonsoir</td>\n      <td>Bonsoir</td>\n      <td>thé</td>\n      <td>téa</td>\n    </tr>\n    <tr>\n      <th>2</th>\n      <td>NaN</td>\n      <td>NaN</td>\n      <td>NaN</td>\n      <td>NaN</td>\n      <td>NaN</td>\n      <td>Non</td>\n      <td>Non</td>\n      <td>téléphone</td>\n      <td>teléphone</td>\n    </tr>\n    <tr>\n      <th>3</th>\n      <td>NaN</td>\n      <td>NaN</td>\n      <td>NaN</td>\n      <td>NaN</td>\n      <td>NaN</td>\n      <td>Café</td>\n      <td>Café</td>\n      <td>toilette</td>\n      <td>toilette</td>\n    </tr>\n    <tr>\n      <th>4</th>\n      <td>NaN</td>\n      <td>NaN</td>\n      <td>NaN</td>\n      <td>NaN</td>\n      <td>NaN</td>\n      <td>Entrée</td>\n      <td>Entrée</td>\n      <td>taxi</td>\n      <td>texi</td>\n    </tr>\n    <tr>\n      <th>...</th>\n      <td>...</td>\n      <td>...</td>\n      <td>...</td>\n      <td>...</td>\n      <td>...</td>\n      <td>...</td>\n      <td>...</td>\n      <td>...</td>\n      <td>...</td>\n    </tr>\n    <tr>\n      <th>1375</th>\n      <td>NaN</td>\n      <td>NaN</td>\n      <td>NaN</td>\n      <td>NaN</td>\n      <td>NaN</td>\n      <td>Sortie</td>\n      <td>Sortie</td>\n      <td>Excusez-moi</td>\n      <td>Excusez-moi</td>\n    </tr>\n    <tr>\n      <th>1376</th>\n      <td>NaN</td>\n      <td>NaN</td>\n      <td>NaN</td>\n      <td>NaN</td>\n      <td>NaN</td>\n      <td>Université</td>\n      <td>Université</td>\n      <td>bonheur</td>\n      <td>bonheur</td>\n    </tr>\n    <tr>\n      <th>1377</th>\n      <td>NaN</td>\n      <td>NaN</td>\n      <td>NaN</td>\n      <td>NaN</td>\n      <td>NaN</td>\n      <td>chaise</td>\n      <td>chaise</td>\n      <td>auteur</td>\n      <td>auteur</td>\n    </tr>\n    <tr>\n      <th>1378</th>\n      <td>NaN</td>\n      <td>NaN</td>\n      <td>NaN</td>\n      <td>NaN</td>\n      <td>NaN</td>\n      <td>S'il vous plaît</td>\n      <td>S'il vous plaît</td>\n      <td>ail</td>\n      <td>ail</td>\n    </tr>\n    <tr>\n      <th>1379</th>\n      <td>NaN</td>\n      <td>NaN</td>\n      <td>NaN</td>\n      <td>NaN</td>\n      <td>NaN</td>\n      <td>maison</td>\n      <td>maison</td>\n      <td>saison</td>\n      <td>saison</td>\n    </tr>\n  </tbody>\n</table>\n<p>1380 rows × 9 columns</p>\n</div>"
     },
     "execution_count": 86,
     "metadata": {},
     "output_type": "execute_result"
    }
   ],
   "source": [
    "df = pd.read_csv('voca_result.csv')\n",
    "df\n"
   ],
   "metadata": {
    "collapsed": false,
    "pycharm": {
     "name": "#%%\n"
    }
   }
  },
  {
   "cell_type": "code",
   "execution_count": 89,
   "outputs": [
    {
     "data": {
      "text/plain": "     round1__answers__answer round1__answers__myanswer  \\\n0                      Merci                     Mersi   \n1                    Bonsoir                   Bonsoir   \n2                        Non                       Non   \n3                       Café                      Café   \n4                     Entrée                    Entrée   \n...                      ...                       ...   \n1375                  Sortie                    Sortie   \n1376              Université                Université   \n1377                  chaise                    chaise   \n1378         S'il vous plaît           S'il vous plaît   \n1379                  maison                    maison   \n\n     round2__answers__answer round2__answers__myanswer  round1__outcome  \\\n0                      métro                     métro                0   \n1                        thé                       téa                0   \n2                  téléphone                 teléphone                0   \n3                   toilette                  toilette                0   \n4                       taxi                      texi                0   \n...                      ...                       ...              ...   \n1375             Excusez-moi               Excusez-moi                0   \n1376                 bonheur                   bonheur                0   \n1377                  auteur                    auteur                0   \n1378                     ail                       ail                0   \n1379                  saison                    saison                0   \n\n      round2__outcome  \n0                   0  \n1                   0  \n2                   0  \n3                   0  \n4                   0  \n...               ...  \n1375                0  \n1376                0  \n1377                0  \n1378                0  \n1379                0  \n\n[1380 rows x 6 columns]",
      "text/html": "<div>\n<style scoped>\n    .dataframe tbody tr th:only-of-type {\n        vertical-align: middle;\n    }\n\n    .dataframe tbody tr th {\n        vertical-align: top;\n    }\n\n    .dataframe thead th {\n        text-align: right;\n    }\n</style>\n<table border=\"1\" class=\"dataframe\">\n  <thead>\n    <tr style=\"text-align: right;\">\n      <th></th>\n      <th>round1__answers__answer</th>\n      <th>round1__answers__myanswer</th>\n      <th>round2__answers__answer</th>\n      <th>round2__answers__myanswer</th>\n      <th>round1__outcome</th>\n      <th>round2__outcome</th>\n    </tr>\n  </thead>\n  <tbody>\n    <tr>\n      <th>0</th>\n      <td>Merci</td>\n      <td>Mersi</td>\n      <td>métro</td>\n      <td>métro</td>\n      <td>0</td>\n      <td>0</td>\n    </tr>\n    <tr>\n      <th>1</th>\n      <td>Bonsoir</td>\n      <td>Bonsoir</td>\n      <td>thé</td>\n      <td>téa</td>\n      <td>0</td>\n      <td>0</td>\n    </tr>\n    <tr>\n      <th>2</th>\n      <td>Non</td>\n      <td>Non</td>\n      <td>téléphone</td>\n      <td>teléphone</td>\n      <td>0</td>\n      <td>0</td>\n    </tr>\n    <tr>\n      <th>3</th>\n      <td>Café</td>\n      <td>Café</td>\n      <td>toilette</td>\n      <td>toilette</td>\n      <td>0</td>\n      <td>0</td>\n    </tr>\n    <tr>\n      <th>4</th>\n      <td>Entrée</td>\n      <td>Entrée</td>\n      <td>taxi</td>\n      <td>texi</td>\n      <td>0</td>\n      <td>0</td>\n    </tr>\n    <tr>\n      <th>...</th>\n      <td>...</td>\n      <td>...</td>\n      <td>...</td>\n      <td>...</td>\n      <td>...</td>\n      <td>...</td>\n    </tr>\n    <tr>\n      <th>1375</th>\n      <td>Sortie</td>\n      <td>Sortie</td>\n      <td>Excusez-moi</td>\n      <td>Excusez-moi</td>\n      <td>0</td>\n      <td>0</td>\n    </tr>\n    <tr>\n      <th>1376</th>\n      <td>Université</td>\n      <td>Université</td>\n      <td>bonheur</td>\n      <td>bonheur</td>\n      <td>0</td>\n      <td>0</td>\n    </tr>\n    <tr>\n      <th>1377</th>\n      <td>chaise</td>\n      <td>chaise</td>\n      <td>auteur</td>\n      <td>auteur</td>\n      <td>0</td>\n      <td>0</td>\n    </tr>\n    <tr>\n      <th>1378</th>\n      <td>S'il vous plaît</td>\n      <td>S'il vous plaît</td>\n      <td>ail</td>\n      <td>ail</td>\n      <td>0</td>\n      <td>0</td>\n    </tr>\n    <tr>\n      <th>1379</th>\n      <td>maison</td>\n      <td>maison</td>\n      <td>saison</td>\n      <td>saison</td>\n      <td>0</td>\n      <td>0</td>\n    </tr>\n  </tbody>\n</table>\n<p>1380 rows × 6 columns</p>\n</div>"
     },
     "execution_count": 89,
     "metadata": {},
     "output_type": "execute_result"
    }
   ],
   "source": [
    "df.loc[:, ['round1__answers__answer', 'round1__answers__myanswer', 'round2__answers__answer', 'round2__answers__myanswer', 'round1__outcome', 'round2__outcome']]"
   ],
   "metadata": {
    "collapsed": false,
    "pycharm": {
     "name": "#%%\n"
    }
   }
  },
  {
   "cell_type": "code",
   "execution_count": 88,
   "outputs": [],
   "source": [
    "# 새로운 열 만들기 (result)\n",
    "df['round1__outcome'] = 0\n",
    "df['round2__outcome'] = 0"
   ],
   "metadata": {
    "collapsed": false,
    "pycharm": {
     "name": "#%%\n"
    }
   }
  },
  {
   "cell_type": "code",
   "execution_count": 91,
   "outputs": [
    {
     "name": "stderr",
     "output_type": "stream",
     "text": [
      "<ipython-input-91-bad73c0a8f26>:5: SettingWithCopyWarning: \n",
      "A value is trying to be set on a copy of a slice from a DataFrame\n",
      "\n",
      "See the caveats in the documentation: https://pandas.pydata.org/pandas-docs/stable/user_guide/indexing.html#returning-a-view-versus-a-copy\n",
      "  df['round1__outcome'][i] = 0\n",
      "<ipython-input-91-bad73c0a8f26>:3: SettingWithCopyWarning: \n",
      "A value is trying to be set on a copy of a slice from a DataFrame\n",
      "\n",
      "See the caveats in the documentation: https://pandas.pydata.org/pandas-docs/stable/user_guide/indexing.html#returning-a-view-versus-a-copy\n",
      "  df['round1__outcome'][i] = 1\n"
     ]
    },
    {
     "data": {
      "text/plain": "   round1__answers__answer round1__answers__myanswer  round1__outcome  \\\n0                    Merci                     Mersi                0   \n1                  Bonsoir                   Bonsoir                1   \n2                      Non                       Non                1   \n3                     Café                      Café                1   \n4                   Entrée                    Entrée                1   \n5                   Sortie                    Sortié                0   \n6               Université                Université                1   \n7                   chaise                    chaire                0   \n8          S'il vous plaît           S'il vous plaît                1   \n9                   maison                    maison                1   \n10                   Merci                     Merci                1   \n11                 Bonsoir                   Bonjour                0   \n12                     Non                       Non                1   \n13                    Café                      Café                1   \n14                  Entrée                    Entrée                1   \n15                  Sortie                    Sortie                1   \n16              Université               Universitée                0   \n17                  chaise                    chaire                0   \n18         S'il vous plaît                  Enchanté                0   \n19                  maison                    maison                1   \n20                   Merci                     Merci                1   \n21                 Bonsoir                   Bonsoir                1   \n22                     Non                       Non                1   \n23                    Café                      Café                1   \n24                  Entrée                    Entrée                1   \n25                  Sortie                    Sortie                1   \n26              Université                Université                1   \n27                  chaise                    chaise                1   \n28         S'il vous plaît           S'il vous plaît                1   \n29                  maison                     mason                0   \n30                   Merci                     Merci                1   \n\n    round2__outcome  \n0                 0  \n1                 0  \n2                 0  \n3                 0  \n4                 0  \n5                 0  \n6                 0  \n7                 0  \n8                 0  \n9                 0  \n10                0  \n11                0  \n12                0  \n13                0  \n14                0  \n15                0  \n16                0  \n17                0  \n18                0  \n19                0  \n20                0  \n21                0  \n22                0  \n23                0  \n24                0  \n25                0  \n26                0  \n27                0  \n28                0  \n29                0  \n30                0  ",
      "text/html": "<div>\n<style scoped>\n    .dataframe tbody tr th:only-of-type {\n        vertical-align: middle;\n    }\n\n    .dataframe tbody tr th {\n        vertical-align: top;\n    }\n\n    .dataframe thead th {\n        text-align: right;\n    }\n</style>\n<table border=\"1\" class=\"dataframe\">\n  <thead>\n    <tr style=\"text-align: right;\">\n      <th></th>\n      <th>round1__answers__answer</th>\n      <th>round1__answers__myanswer</th>\n      <th>round1__outcome</th>\n      <th>round2__outcome</th>\n    </tr>\n  </thead>\n  <tbody>\n    <tr>\n      <th>0</th>\n      <td>Merci</td>\n      <td>Mersi</td>\n      <td>0</td>\n      <td>0</td>\n    </tr>\n    <tr>\n      <th>1</th>\n      <td>Bonsoir</td>\n      <td>Bonsoir</td>\n      <td>1</td>\n      <td>0</td>\n    </tr>\n    <tr>\n      <th>2</th>\n      <td>Non</td>\n      <td>Non</td>\n      <td>1</td>\n      <td>0</td>\n    </tr>\n    <tr>\n      <th>3</th>\n      <td>Café</td>\n      <td>Café</td>\n      <td>1</td>\n      <td>0</td>\n    </tr>\n    <tr>\n      <th>4</th>\n      <td>Entrée</td>\n      <td>Entrée</td>\n      <td>1</td>\n      <td>0</td>\n    </tr>\n    <tr>\n      <th>5</th>\n      <td>Sortie</td>\n      <td>Sortié</td>\n      <td>0</td>\n      <td>0</td>\n    </tr>\n    <tr>\n      <th>6</th>\n      <td>Université</td>\n      <td>Université</td>\n      <td>1</td>\n      <td>0</td>\n    </tr>\n    <tr>\n      <th>7</th>\n      <td>chaise</td>\n      <td>chaire</td>\n      <td>0</td>\n      <td>0</td>\n    </tr>\n    <tr>\n      <th>8</th>\n      <td>S'il vous plaît</td>\n      <td>S'il vous plaît</td>\n      <td>1</td>\n      <td>0</td>\n    </tr>\n    <tr>\n      <th>9</th>\n      <td>maison</td>\n      <td>maison</td>\n      <td>1</td>\n      <td>0</td>\n    </tr>\n    <tr>\n      <th>10</th>\n      <td>Merci</td>\n      <td>Merci</td>\n      <td>1</td>\n      <td>0</td>\n    </tr>\n    <tr>\n      <th>11</th>\n      <td>Bonsoir</td>\n      <td>Bonjour</td>\n      <td>0</td>\n      <td>0</td>\n    </tr>\n    <tr>\n      <th>12</th>\n      <td>Non</td>\n      <td>Non</td>\n      <td>1</td>\n      <td>0</td>\n    </tr>\n    <tr>\n      <th>13</th>\n      <td>Café</td>\n      <td>Café</td>\n      <td>1</td>\n      <td>0</td>\n    </tr>\n    <tr>\n      <th>14</th>\n      <td>Entrée</td>\n      <td>Entrée</td>\n      <td>1</td>\n      <td>0</td>\n    </tr>\n    <tr>\n      <th>15</th>\n      <td>Sortie</td>\n      <td>Sortie</td>\n      <td>1</td>\n      <td>0</td>\n    </tr>\n    <tr>\n      <th>16</th>\n      <td>Université</td>\n      <td>Universitée</td>\n      <td>0</td>\n      <td>0</td>\n    </tr>\n    <tr>\n      <th>17</th>\n      <td>chaise</td>\n      <td>chaire</td>\n      <td>0</td>\n      <td>0</td>\n    </tr>\n    <tr>\n      <th>18</th>\n      <td>S'il vous plaît</td>\n      <td>Enchanté</td>\n      <td>0</td>\n      <td>0</td>\n    </tr>\n    <tr>\n      <th>19</th>\n      <td>maison</td>\n      <td>maison</td>\n      <td>1</td>\n      <td>0</td>\n    </tr>\n    <tr>\n      <th>20</th>\n      <td>Merci</td>\n      <td>Merci</td>\n      <td>1</td>\n      <td>0</td>\n    </tr>\n    <tr>\n      <th>21</th>\n      <td>Bonsoir</td>\n      <td>Bonsoir</td>\n      <td>1</td>\n      <td>0</td>\n    </tr>\n    <tr>\n      <th>22</th>\n      <td>Non</td>\n      <td>Non</td>\n      <td>1</td>\n      <td>0</td>\n    </tr>\n    <tr>\n      <th>23</th>\n      <td>Café</td>\n      <td>Café</td>\n      <td>1</td>\n      <td>0</td>\n    </tr>\n    <tr>\n      <th>24</th>\n      <td>Entrée</td>\n      <td>Entrée</td>\n      <td>1</td>\n      <td>0</td>\n    </tr>\n    <tr>\n      <th>25</th>\n      <td>Sortie</td>\n      <td>Sortie</td>\n      <td>1</td>\n      <td>0</td>\n    </tr>\n    <tr>\n      <th>26</th>\n      <td>Université</td>\n      <td>Université</td>\n      <td>1</td>\n      <td>0</td>\n    </tr>\n    <tr>\n      <th>27</th>\n      <td>chaise</td>\n      <td>chaise</td>\n      <td>1</td>\n      <td>0</td>\n    </tr>\n    <tr>\n      <th>28</th>\n      <td>S'il vous plaît</td>\n      <td>S'il vous plaît</td>\n      <td>1</td>\n      <td>0</td>\n    </tr>\n    <tr>\n      <th>29</th>\n      <td>maison</td>\n      <td>mason</td>\n      <td>0</td>\n      <td>0</td>\n    </tr>\n    <tr>\n      <th>30</th>\n      <td>Merci</td>\n      <td>Merci</td>\n      <td>1</td>\n      <td>0</td>\n    </tr>\n  </tbody>\n</table>\n</div>"
     },
     "execution_count": 91,
     "metadata": {},
     "output_type": "execute_result"
    }
   ],
   "source": [
    "for i in range(0, 1380):\n",
    "    if df['round1__answers__myanswer'][i] == df['round1__answers__answer'][i]:\n",
    "        df['round1__outcome'][i] = 1\n",
    "    else:\n",
    "        df['round1__outcome'][i] = 0\n",
    "\n",
    "\n",
    "df.loc[:30, ['round1__answers__answer', 'round1__answers__myanswer', 'round1__outcome', 'round2__outcome']]"
   ],
   "metadata": {
    "collapsed": false,
    "pycharm": {
     "name": "#%%\n"
    }
   }
  },
  {
   "cell_type": "code",
   "execution_count": 93,
   "outputs": [
    {
     "name": "stderr",
     "output_type": "stream",
     "text": [
      "<ipython-input-93-6b36a129d0ce>:3: SettingWithCopyWarning: \n",
      "A value is trying to be set on a copy of a slice from a DataFrame\n",
      "\n",
      "See the caveats in the documentation: https://pandas.pydata.org/pandas-docs/stable/user_guide/indexing.html#returning-a-view-versus-a-copy\n",
      "  df['round2__outcome'][i] = 1\n",
      "<ipython-input-93-6b36a129d0ce>:5: SettingWithCopyWarning: \n",
      "A value is trying to be set on a copy of a slice from a DataFrame\n",
      "\n",
      "See the caveats in the documentation: https://pandas.pydata.org/pandas-docs/stable/user_guide/indexing.html#returning-a-view-versus-a-copy\n",
      "  df['round2__outcome'][i] = 0\n"
     ]
    },
    {
     "data": {
      "text/plain": "   round1__answers__answer round1__answers__myanswer  round1__outcome  \\\n0                    Merci                     Mersi                0   \n1                  Bonsoir                   Bonsoir                1   \n2                      Non                       Non                1   \n3                     Café                      Café                1   \n4                   Entrée                    Entrée                1   \n5                   Sortie                    Sortié                0   \n6               Université                Université                1   \n7                   chaise                    chaire                0   \n8          S'il vous plaît           S'il vous plaît                1   \n9                   maison                    maison                1   \n10                   Merci                     Merci                1   \n11                 Bonsoir                   Bonjour                0   \n12                     Non                       Non                1   \n13                    Café                      Café                1   \n14                  Entrée                    Entrée                1   \n15                  Sortie                    Sortie                1   \n16              Université               Universitée                0   \n17                  chaise                    chaire                0   \n18         S'il vous plaît                  Enchanté                0   \n19                  maison                    maison                1   \n20                   Merci                     Merci                1   \n21                 Bonsoir                   Bonsoir                1   \n22                     Non                       Non                1   \n23                    Café                      Café                1   \n24                  Entrée                    Entrée                1   \n25                  Sortie                    Sortie                1   \n26              Université                Université                1   \n27                  chaise                    chaise                1   \n28         S'il vous plaît           S'il vous plaît                1   \n29                  maison                     mason                0   \n30                   Merci                     Merci                1   \n\n    round2__outcome  \n0                 1  \n1                 0  \n2                 0  \n3                 1  \n4                 0  \n5                 0  \n6                 0  \n7                 0  \n8                 0  \n9                 1  \n10                1  \n11                0  \n12                0  \n13                1  \n14                0  \n15                1  \n16                1  \n17                0  \n18                0  \n19                1  \n20                1  \n21                1  \n22                0  \n23                1  \n24                1  \n25                1  \n26                1  \n27                1  \n28                1  \n29                1  \n30                1  ",
      "text/html": "<div>\n<style scoped>\n    .dataframe tbody tr th:only-of-type {\n        vertical-align: middle;\n    }\n\n    .dataframe tbody tr th {\n        vertical-align: top;\n    }\n\n    .dataframe thead th {\n        text-align: right;\n    }\n</style>\n<table border=\"1\" class=\"dataframe\">\n  <thead>\n    <tr style=\"text-align: right;\">\n      <th></th>\n      <th>round1__answers__answer</th>\n      <th>round1__answers__myanswer</th>\n      <th>round1__outcome</th>\n      <th>round2__outcome</th>\n    </tr>\n  </thead>\n  <tbody>\n    <tr>\n      <th>0</th>\n      <td>Merci</td>\n      <td>Mersi</td>\n      <td>0</td>\n      <td>1</td>\n    </tr>\n    <tr>\n      <th>1</th>\n      <td>Bonsoir</td>\n      <td>Bonsoir</td>\n      <td>1</td>\n      <td>0</td>\n    </tr>\n    <tr>\n      <th>2</th>\n      <td>Non</td>\n      <td>Non</td>\n      <td>1</td>\n      <td>0</td>\n    </tr>\n    <tr>\n      <th>3</th>\n      <td>Café</td>\n      <td>Café</td>\n      <td>1</td>\n      <td>1</td>\n    </tr>\n    <tr>\n      <th>4</th>\n      <td>Entrée</td>\n      <td>Entrée</td>\n      <td>1</td>\n      <td>0</td>\n    </tr>\n    <tr>\n      <th>5</th>\n      <td>Sortie</td>\n      <td>Sortié</td>\n      <td>0</td>\n      <td>0</td>\n    </tr>\n    <tr>\n      <th>6</th>\n      <td>Université</td>\n      <td>Université</td>\n      <td>1</td>\n      <td>0</td>\n    </tr>\n    <tr>\n      <th>7</th>\n      <td>chaise</td>\n      <td>chaire</td>\n      <td>0</td>\n      <td>0</td>\n    </tr>\n    <tr>\n      <th>8</th>\n      <td>S'il vous plaît</td>\n      <td>S'il vous plaît</td>\n      <td>1</td>\n      <td>0</td>\n    </tr>\n    <tr>\n      <th>9</th>\n      <td>maison</td>\n      <td>maison</td>\n      <td>1</td>\n      <td>1</td>\n    </tr>\n    <tr>\n      <th>10</th>\n      <td>Merci</td>\n      <td>Merci</td>\n      <td>1</td>\n      <td>1</td>\n    </tr>\n    <tr>\n      <th>11</th>\n      <td>Bonsoir</td>\n      <td>Bonjour</td>\n      <td>0</td>\n      <td>0</td>\n    </tr>\n    <tr>\n      <th>12</th>\n      <td>Non</td>\n      <td>Non</td>\n      <td>1</td>\n      <td>0</td>\n    </tr>\n    <tr>\n      <th>13</th>\n      <td>Café</td>\n      <td>Café</td>\n      <td>1</td>\n      <td>1</td>\n    </tr>\n    <tr>\n      <th>14</th>\n      <td>Entrée</td>\n      <td>Entrée</td>\n      <td>1</td>\n      <td>0</td>\n    </tr>\n    <tr>\n      <th>15</th>\n      <td>Sortie</td>\n      <td>Sortie</td>\n      <td>1</td>\n      <td>1</td>\n    </tr>\n    <tr>\n      <th>16</th>\n      <td>Université</td>\n      <td>Universitée</td>\n      <td>0</td>\n      <td>1</td>\n    </tr>\n    <tr>\n      <th>17</th>\n      <td>chaise</td>\n      <td>chaire</td>\n      <td>0</td>\n      <td>0</td>\n    </tr>\n    <tr>\n      <th>18</th>\n      <td>S'il vous plaît</td>\n      <td>Enchanté</td>\n      <td>0</td>\n      <td>0</td>\n    </tr>\n    <tr>\n      <th>19</th>\n      <td>maison</td>\n      <td>maison</td>\n      <td>1</td>\n      <td>1</td>\n    </tr>\n    <tr>\n      <th>20</th>\n      <td>Merci</td>\n      <td>Merci</td>\n      <td>1</td>\n      <td>1</td>\n    </tr>\n    <tr>\n      <th>21</th>\n      <td>Bonsoir</td>\n      <td>Bonsoir</td>\n      <td>1</td>\n      <td>1</td>\n    </tr>\n    <tr>\n      <th>22</th>\n      <td>Non</td>\n      <td>Non</td>\n      <td>1</td>\n      <td>0</td>\n    </tr>\n    <tr>\n      <th>23</th>\n      <td>Café</td>\n      <td>Café</td>\n      <td>1</td>\n      <td>1</td>\n    </tr>\n    <tr>\n      <th>24</th>\n      <td>Entrée</td>\n      <td>Entrée</td>\n      <td>1</td>\n      <td>1</td>\n    </tr>\n    <tr>\n      <th>25</th>\n      <td>Sortie</td>\n      <td>Sortie</td>\n      <td>1</td>\n      <td>1</td>\n    </tr>\n    <tr>\n      <th>26</th>\n      <td>Université</td>\n      <td>Université</td>\n      <td>1</td>\n      <td>1</td>\n    </tr>\n    <tr>\n      <th>27</th>\n      <td>chaise</td>\n      <td>chaise</td>\n      <td>1</td>\n      <td>1</td>\n    </tr>\n    <tr>\n      <th>28</th>\n      <td>S'il vous plaît</td>\n      <td>S'il vous plaît</td>\n      <td>1</td>\n      <td>1</td>\n    </tr>\n    <tr>\n      <th>29</th>\n      <td>maison</td>\n      <td>mason</td>\n      <td>0</td>\n      <td>1</td>\n    </tr>\n    <tr>\n      <th>30</th>\n      <td>Merci</td>\n      <td>Merci</td>\n      <td>1</td>\n      <td>1</td>\n    </tr>\n  </tbody>\n</table>\n</div>"
     },
     "execution_count": 93,
     "metadata": {},
     "output_type": "execute_result"
    }
   ],
   "source": [
    "for i in range(0, 1380):\n",
    "    if df['round2__answers__myanswer'][i] == df['round2__answers__answer'][i]:\n",
    "        df['round2__outcome'][i] = 1\n",
    "    else:\n",
    "        df['round2__outcome'][i] = 0\n",
    "\n",
    "df.loc[:30, ['round1__answers__answer', 'round1__answers__myanswer', 'round1__outcome', 'round2__outcome']]"
   ],
   "metadata": {
    "collapsed": false,
    "pycharm": {
     "name": "#%%\n"
    }
   }
  },
  {
   "cell_type": "code",
   "execution_count": 94,
   "outputs": [
    {
     "data": {
      "text/plain": "        |  experimentType  round round0__answers__answer  \\\n0     강동옥             1.0    0.0                 Bonjour   \n1     NaN             NaN    NaN                     Oui   \n2     NaN             NaN    NaN                     NaN   \n3     NaN             NaN    NaN                     NaN   \n4     NaN             NaN    NaN                     NaN   \n...   ...             ...    ...                     ...   \n1375  NaN             NaN    NaN                     NaN   \n1376  NaN             NaN    NaN                     NaN   \n1377  NaN             NaN    NaN                     NaN   \n1378  NaN             NaN    NaN                     NaN   \n1379  NaN             NaN    NaN                     NaN   \n\n     round0__answers__myanswer round1__answers__answer  \\\n0                      Bonjour                   Merci   \n1                          Oui                 Bonsoir   \n2                          NaN                     Non   \n3                          NaN                    Café   \n4                          NaN                  Entrée   \n...                        ...                     ...   \n1375                       NaN                  Sortie   \n1376                       NaN              Université   \n1377                       NaN                  chaise   \n1378                       NaN         S'il vous plaît   \n1379                       NaN                  maison   \n\n     round1__answers__myanswer round2__answers__answer  \\\n0                        Mersi                   métro   \n1                      Bonsoir                     thé   \n2                          Non               téléphone   \n3                         Café                toilette   \n4                       Entrée                    taxi   \n...                        ...                     ...   \n1375                    Sortie             Excusez-moi   \n1376                Université                 bonheur   \n1377                    chaise                  auteur   \n1378           S'il vous plaît                     ail   \n1379                    maison                  saison   \n\n     round2__answers__myanswer  round1__outcome  round2__outcome  \n0                        métro                0                1  \n1                          téa                1                0  \n2                    teléphone                1                0  \n3                     toilette                1                1  \n4                         texi                1                0  \n...                        ...              ...              ...  \n1375               Excusez-moi                1                1  \n1376                   bonheur                1                1  \n1377                    auteur                1                1  \n1378                       ail                1                1  \n1379                    saison                1                1  \n\n[1380 rows x 11 columns]",
      "text/html": "<div>\n<style scoped>\n    .dataframe tbody tr th:only-of-type {\n        vertical-align: middle;\n    }\n\n    .dataframe tbody tr th {\n        vertical-align: top;\n    }\n\n    .dataframe thead th {\n        text-align: right;\n    }\n</style>\n<table border=\"1\" class=\"dataframe\">\n  <thead>\n    <tr style=\"text-align: right;\">\n      <th></th>\n      <th>|</th>\n      <th>experimentType</th>\n      <th>round</th>\n      <th>round0__answers__answer</th>\n      <th>round0__answers__myanswer</th>\n      <th>round1__answers__answer</th>\n      <th>round1__answers__myanswer</th>\n      <th>round2__answers__answer</th>\n      <th>round2__answers__myanswer</th>\n      <th>round1__outcome</th>\n      <th>round2__outcome</th>\n    </tr>\n  </thead>\n  <tbody>\n    <tr>\n      <th>0</th>\n      <td>강동옥</td>\n      <td>1.0</td>\n      <td>0.0</td>\n      <td>Bonjour</td>\n      <td>Bonjour</td>\n      <td>Merci</td>\n      <td>Mersi</td>\n      <td>métro</td>\n      <td>métro</td>\n      <td>0</td>\n      <td>1</td>\n    </tr>\n    <tr>\n      <th>1</th>\n      <td>NaN</td>\n      <td>NaN</td>\n      <td>NaN</td>\n      <td>Oui</td>\n      <td>Oui</td>\n      <td>Bonsoir</td>\n      <td>Bonsoir</td>\n      <td>thé</td>\n      <td>téa</td>\n      <td>1</td>\n      <td>0</td>\n    </tr>\n    <tr>\n      <th>2</th>\n      <td>NaN</td>\n      <td>NaN</td>\n      <td>NaN</td>\n      <td>NaN</td>\n      <td>NaN</td>\n      <td>Non</td>\n      <td>Non</td>\n      <td>téléphone</td>\n      <td>teléphone</td>\n      <td>1</td>\n      <td>0</td>\n    </tr>\n    <tr>\n      <th>3</th>\n      <td>NaN</td>\n      <td>NaN</td>\n      <td>NaN</td>\n      <td>NaN</td>\n      <td>NaN</td>\n      <td>Café</td>\n      <td>Café</td>\n      <td>toilette</td>\n      <td>toilette</td>\n      <td>1</td>\n      <td>1</td>\n    </tr>\n    <tr>\n      <th>4</th>\n      <td>NaN</td>\n      <td>NaN</td>\n      <td>NaN</td>\n      <td>NaN</td>\n      <td>NaN</td>\n      <td>Entrée</td>\n      <td>Entrée</td>\n      <td>taxi</td>\n      <td>texi</td>\n      <td>1</td>\n      <td>0</td>\n    </tr>\n    <tr>\n      <th>...</th>\n      <td>...</td>\n      <td>...</td>\n      <td>...</td>\n      <td>...</td>\n      <td>...</td>\n      <td>...</td>\n      <td>...</td>\n      <td>...</td>\n      <td>...</td>\n      <td>...</td>\n      <td>...</td>\n    </tr>\n    <tr>\n      <th>1375</th>\n      <td>NaN</td>\n      <td>NaN</td>\n      <td>NaN</td>\n      <td>NaN</td>\n      <td>NaN</td>\n      <td>Sortie</td>\n      <td>Sortie</td>\n      <td>Excusez-moi</td>\n      <td>Excusez-moi</td>\n      <td>1</td>\n      <td>1</td>\n    </tr>\n    <tr>\n      <th>1376</th>\n      <td>NaN</td>\n      <td>NaN</td>\n      <td>NaN</td>\n      <td>NaN</td>\n      <td>NaN</td>\n      <td>Université</td>\n      <td>Université</td>\n      <td>bonheur</td>\n      <td>bonheur</td>\n      <td>1</td>\n      <td>1</td>\n    </tr>\n    <tr>\n      <th>1377</th>\n      <td>NaN</td>\n      <td>NaN</td>\n      <td>NaN</td>\n      <td>NaN</td>\n      <td>NaN</td>\n      <td>chaise</td>\n      <td>chaise</td>\n      <td>auteur</td>\n      <td>auteur</td>\n      <td>1</td>\n      <td>1</td>\n    </tr>\n    <tr>\n      <th>1378</th>\n      <td>NaN</td>\n      <td>NaN</td>\n      <td>NaN</td>\n      <td>NaN</td>\n      <td>NaN</td>\n      <td>S'il vous plaît</td>\n      <td>S'il vous plaît</td>\n      <td>ail</td>\n      <td>ail</td>\n      <td>1</td>\n      <td>1</td>\n    </tr>\n    <tr>\n      <th>1379</th>\n      <td>NaN</td>\n      <td>NaN</td>\n      <td>NaN</td>\n      <td>NaN</td>\n      <td>NaN</td>\n      <td>maison</td>\n      <td>maison</td>\n      <td>saison</td>\n      <td>saison</td>\n      <td>1</td>\n      <td>1</td>\n    </tr>\n  </tbody>\n</table>\n<p>1380 rows × 11 columns</p>\n</div>"
     },
     "execution_count": 94,
     "metadata": {},
     "output_type": "execute_result"
    }
   ],
   "source": [
    "df"
   ],
   "metadata": {
    "collapsed": false,
    "pycharm": {
     "name": "#%%\n"
    }
   }
  },
  {
   "cell_type": "code",
   "execution_count": 96,
   "outputs": [],
   "source": [
    "df.to_csv('result_voca.csv', header=False, index=False)"
   ],
   "metadata": {
    "collapsed": false,
    "pycharm": {
     "name": "#%%\n"
    }
   }
  },
  {
   "cell_type": "code",
   "execution_count": null,
   "outputs": [],
   "source": [],
   "metadata": {
    "collapsed": false,
    "pycharm": {
     "name": "#%%\n"
    }
   }
  }
 ],
 "metadata": {
  "kernelspec": {
   "name": "python3",
   "language": "python",
   "display_name": "Python 3"
  },
  "language_info": {
   "codemirror_mode": {
    "name": "ipython",
    "version": 2
   },
   "file_extension": ".py",
   "mimetype": "text/x-python",
   "name": "python",
   "nbconvert_exporter": "python",
   "pygments_lexer": "ipython2",
   "version": "2.7.6"
  }
 },
 "nbformat": 4,
 "nbformat_minor": 0
}