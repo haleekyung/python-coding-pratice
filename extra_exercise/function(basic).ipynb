{
 "cells": [
  {
   "cell_type": "code",
   "execution_count": 2,
   "metadata": {
    "collapsed": true
   },
   "outputs": [
    {
     "name": "stdout",
     "output_type": "stream",
     "text": [
      "서울특별시 종로구 1번지\n",
      "파이썬 빌딩 7층\n",
      "홍길동\n"
     ]
    }
   ],
   "source": [
    "\n",
    "def print_address():\n",
    "    print(\"서울특별시 종로구 1번지\")\n",
    "    print(\"파이썬 빌딩 7층\")\n",
    "    print(\"홍길동\")\n",
    "\n",
    "print_address()"
   ]
  },
  {
   "cell_type": "code",
   "execution_count": 3,
   "outputs": [],
   "source": [
    "def calculate_area(radius):\n",
    "    area = 3.14 * radius ** 2\n",
    "    return area\n",
    "\n",
    "c_area = calculate_area(5.0)"
   ],
   "metadata": {
    "collapsed": false,
    "pycharm": {
     "name": "#%%\n"
    }
   }
  },
  {
   "cell_type": "code",
   "execution_count": null,
   "outputs": [],
   "source": [],
   "metadata": {
    "collapsed": false,
    "pycharm": {
     "name": "#%%\n"
    }
   }
  }
 ],
 "metadata": {
  "kernelspec": {
   "display_name": "Python 3",
   "language": "python",
   "name": "python3"
  },
  "language_info": {
   "codemirror_mode": {
    "name": "ipython",
    "version": 2
   },
   "file_extension": ".py",
   "mimetype": "text/x-python",
   "name": "python",
   "nbconvert_exporter": "python",
   "pygments_lexer": "ipython2",
   "version": "2.7.6"
  }
 },
 "nbformat": 4,
 "nbformat_minor": 0
}